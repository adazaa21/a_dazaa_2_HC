{
 "cells": [
  {
   "cell_type": "markdown",
   "id": "ea6e2bc4",
   "metadata": {},
   "source": [
    "Estudiante 1: Stefanny Figueredo\n",
    "\n",
    "Estudiante 2: Andrea Sofía Daza\n",
    "\n",
    "----"
   ]
  },
  {
   "cell_type": "markdown",
   "id": "f09b1d95",
   "metadata": {},
   "source": [
    "# Departamento de Ingeniería Mecánica\n",
    "## IMEC 2001 - Herramientas Computacionales\n",
    "### Taller 3 - Sistemas de Ecuaciones Ordinarias\n",
    "----\n",
    "### **<span style=\"color:#A1CCD1;\">Condiciones de la entrega </span>**\n",
    "----\n",
    "**1. Fechas de entrega:**\n",
    "- Nota sobre 5.00 ->  <span style=\"color:red;\">1 de Octubre a las 23:59, 2023</span>\n",
    "\n",
    "**2. Colocar el nombre de los integrantes en la casilla correspondiente<br>**\n",
    "**3. La entrega del taller es por Bloque Neon y se envía el archivo en formato de Jupyter Notebook (extensión `.ipynb`)<br>**\n",
    "**4. El nombre del archivo debe ser:** \n",
    "- Si trabajó en parejas:`T#_ApellidosIntegrante1_ApellidosIntegrante2` (Ej: `T#_Salamanca_VargasTorres`)\n",
    "- Si trabajó individual: `T#_Apellido` (Ej: `T#_VargasTorres`)\n",
    "\n",
    "**5. Comente el código con el proceso que realizó para llegar a la solución.<br>**\n",
    "**6. <span style=\"color:red;\"> Si se detecta copia con otro de los talleres enviados, automáticamente la nota para los grupos involucrados es 0. </span>**\n",
    "\n",
    "\n",
    "\n"
   ]
  },
  {
   "cell_type": "markdown",
   "id": "54dac631",
   "metadata": {},
   "source": [
    "<a id=\"exercise3\"></a>\n",
    "## <font color=\"#276C9B\"> Actividad 1  </font>\n",
    "\n",
    "En los sistemas dinámicos bidimensionales para algunos casos se tienen los ciclos límite los cuales son una trayectoria cerrada en el espacio. A continuación tiene las ecuaciones de las que debe encontrar la solución para $x$ y $y$:\n",
    "\n",
    "$$y = - x' + x(1-x^2-y^2)$$\n",
    "$$-x = -y' + y(1-x^2-y^2)$$ \n",
    "\n",
    "El ejercicio que debe realizar consta de los siguientes pasos: \n",
    "1. Reescriba la ecuación para que se exprese la primera derivada en términos de x y y. \n",
    "3. Especifique como condiciones iniciales:\n",
    "- x(0) = 0\n",
    "- y(0) = 1\n",
    "4. Especifique el tiempo en el que se va a estudiar la respuesta. \n",
    "4. Solucione el sistema ode. \n",
    "5. Debe realizar una gráfica interactiva teniendo en cuenta la solución encontrada en el literal anterior. Para esto utilice la siguiente función (lo que se encuentra comentado debe completarlo): \n",
    "\n",
    "```Python\n",
    "def f(alpha, t):\n",
    "    tiempo = # Completar\n",
    "    sol = # Completar\n",
    "    \n",
    "    w = 3\n",
    "    x = np.linspace(-w, w, 101)\n",
    "    y = np.linspace(-w, w, 101)\n",
    "    # full coordinate arrays\n",
    "    X, Y = np.meshgrid(x, y)\n",
    "    U = alpha*X - alpha*(X**2 + Y**2)*X - Y\n",
    "    V = alpha*Y - alpha*(X**2 + Y**2)*Y + X\n",
    "    \n",
    "    fig, ax = plt.subplots(figsize=(5,5))\n",
    "    ax.plot(# Completar con la solución encontrada)\n",
    "    ax.streamplot(X,Y,U,V)\n",
    "\n",
    "    formato_grafica(# Completar)\n",
    " ```\n",
    "Para poder desplegar la gráfica utilice la siguiente línea de código:\n",
    "```Python\n",
    " interact(f, alpha=(0, 1, 0.1), t=(0, 'Completar', 0.1))\n",
    " ```"
   ]
  },
  {
   "cell_type": "code",
   "execution_count": 1,
   "id": "34dcb50a",
   "metadata": {},
   "outputs": [
    {
     "name": "stdout",
     "output_type": "stream",
     "text": [
      "Requirement already satisfied: ipywidgets in c:\\users\\dazam\\anaconda\\lib\\site-packages (7.6.5)\n",
      "Requirement already satisfied: jupyterlab-widgets>=1.0.0 in c:\\users\\dazam\\anaconda\\lib\\site-packages (from ipywidgets) (1.0.0)\n",
      "Requirement already satisfied: ipython-genutils~=0.2.0 in c:\\users\\dazam\\anaconda\\lib\\site-packages (from ipywidgets) (0.2.0)\n",
      "Requirement already satisfied: nbformat>=4.2.0 in c:\\users\\dazam\\anaconda\\lib\\site-packages (from ipywidgets) (5.1.3)\n",
      "Requirement already satisfied: ipykernel>=4.5.1 in c:\\users\\dazam\\anaconda\\lib\\site-packages (from ipywidgets) (6.4.1)\n",
      "Requirement already satisfied: traitlets>=4.3.1 in c:\\users\\dazam\\anaconda\\lib\\site-packages (from ipywidgets) (5.1.0)\n",
      "Requirement already satisfied: widgetsnbextension~=3.5.0 in c:\\users\\dazam\\anaconda\\lib\\site-packages (from ipywidgets) (3.5.1)\n",
      "Requirement already satisfied: ipython>=4.0.0 in c:\\users\\dazam\\anaconda\\lib\\site-packages (from ipywidgets) (7.29.0)\n",
      "Requirement already satisfied: jupyter-client<8.0 in c:\\users\\dazam\\anaconda\\lib\\site-packages (from ipykernel>=4.5.1->ipywidgets) (6.1.12)\n",
      "Requirement already satisfied: tornado<7.0,>=4.2 in c:\\users\\dazam\\anaconda\\lib\\site-packages (from ipykernel>=4.5.1->ipywidgets) (6.1)\n",
      "Requirement already satisfied: debugpy<2.0,>=1.0.0 in c:\\users\\dazam\\anaconda\\lib\\site-packages (from ipykernel>=4.5.1->ipywidgets) (1.4.1)\n",
      "Requirement already satisfied: matplotlib-inline<0.2.0,>=0.1.0 in c:\\users\\dazam\\anaconda\\lib\\site-packages (from ipykernel>=4.5.1->ipywidgets) (0.1.2)\n",
      "Requirement already satisfied: backcall in c:\\users\\dazam\\anaconda\\lib\\site-packages (from ipython>=4.0.0->ipywidgets) (0.2.0)\n",
      "Requirement already satisfied: colorama in c:\\users\\dazam\\anaconda\\lib\\site-packages (from ipython>=4.0.0->ipywidgets) (0.4.4)\n",
      "Requirement already satisfied: decorator in c:\\users\\dazam\\anaconda\\lib\\site-packages (from ipython>=4.0.0->ipywidgets) (5.1.0)\n",
      "Requirement already satisfied: pygments in c:\\users\\dazam\\anaconda\\lib\\site-packages (from ipython>=4.0.0->ipywidgets) (2.10.0)\n",
      "Requirement already satisfied: pickleshare in c:\\users\\dazam\\anaconda\\lib\\site-packages (from ipython>=4.0.0->ipywidgets) (0.7.5)\n",
      "Requirement already satisfied: jedi>=0.16 in c:\\users\\dazam\\anaconda\\lib\\site-packages (from ipython>=4.0.0->ipywidgets) (0.18.0)\n",
      "Requirement already satisfied: prompt-toolkit!=3.0.0,!=3.0.1,<3.1.0,>=2.0.0 in c:\\users\\dazam\\anaconda\\lib\\site-packages (from ipython>=4.0.0->ipywidgets) (3.0.20)\n",
      "Requirement already satisfied: setuptools>=18.5 in c:\\users\\dazam\\anaconda\\lib\\site-packages (from ipython>=4.0.0->ipywidgets) (58.0.4)\n",
      "Requirement already satisfied: parso<0.9.0,>=0.8.0 in c:\\users\\dazam\\anaconda\\lib\\site-packages (from jedi>=0.16->ipython>=4.0.0->ipywidgets) (0.8.2)\n",
      "Requirement already satisfied: pyzmq>=13 in c:\\users\\dazam\\anaconda\\lib\\site-packages (from jupyter-client<8.0->ipykernel>=4.5.1->ipywidgets) (22.2.1)\n",
      "Requirement already satisfied: python-dateutil>=2.1 in c:\\users\\dazam\\anaconda\\lib\\site-packages (from jupyter-client<8.0->ipykernel>=4.5.1->ipywidgets) (2.8.2)\n",
      "Requirement already satisfied: jupyter-core>=4.6.0 in c:\\users\\dazam\\anaconda\\lib\\site-packages (from jupyter-client<8.0->ipykernel>=4.5.1->ipywidgets) (4.8.1)\n",
      "Requirement already satisfied: pywin32>=1.0 in c:\\users\\dazam\\anaconda\\lib\\site-packages (from jupyter-core>=4.6.0->jupyter-client<8.0->ipykernel>=4.5.1->ipywidgets) (228)\n",
      "Requirement already satisfied: jsonschema!=2.5.0,>=2.4 in c:\\users\\dazam\\anaconda\\lib\\site-packages (from nbformat>=4.2.0->ipywidgets) (3.2.0)\n",
      "Requirement already satisfied: attrs>=17.4.0 in c:\\users\\dazam\\anaconda\\lib\\site-packages (from jsonschema!=2.5.0,>=2.4->nbformat>=4.2.0->ipywidgets) (21.2.0)\n",
      "Requirement already satisfied: six>=1.11.0 in c:\\users\\dazam\\anaconda\\lib\\site-packages (from jsonschema!=2.5.0,>=2.4->nbformat>=4.2.0->ipywidgets) (1.16.0)\n",
      "Requirement already satisfied: pyrsistent>=0.14.0 in c:\\users\\dazam\\anaconda\\lib\\site-packages (from jsonschema!=2.5.0,>=2.4->nbformat>=4.2.0->ipywidgets) (0.18.0)\n",
      "Requirement already satisfied: wcwidth in c:\\users\\dazam\\anaconda\\lib\\site-packages (from prompt-toolkit!=3.0.0,!=3.0.1,<3.1.0,>=2.0.0->ipython>=4.0.0->ipywidgets) (0.2.5)\n",
      "Requirement already satisfied: notebook>=4.4.1 in c:\\users\\dazam\\anaconda\\lib\\site-packages (from widgetsnbextension~=3.5.0->ipywidgets) (6.4.5)\n",
      "Requirement already satisfied: argon2-cffi in c:\\users\\dazam\\anaconda\\lib\\site-packages (from notebook>=4.4.1->widgetsnbextension~=3.5.0->ipywidgets) (20.1.0)\n",
      "Requirement already satisfied: Send2Trash>=1.5.0 in c:\\users\\dazam\\anaconda\\lib\\site-packages (from notebook>=4.4.1->widgetsnbextension~=3.5.0->ipywidgets) (1.8.0)\n",
      "Requirement already satisfied: terminado>=0.8.3 in c:\\users\\dazam\\anaconda\\lib\\site-packages (from notebook>=4.4.1->widgetsnbextension~=3.5.0->ipywidgets) (0.9.4)\n",
      "Requirement already satisfied: jinja2 in c:\\users\\dazam\\anaconda\\lib\\site-packages (from notebook>=4.4.1->widgetsnbextension~=3.5.0->ipywidgets) (2.11.3)\n",
      "Requirement already satisfied: nbconvert in c:\\users\\dazam\\anaconda\\lib\\site-packages (from notebook>=4.4.1->widgetsnbextension~=3.5.0->ipywidgets) (6.1.0)\n",
      "Requirement already satisfied: prometheus-client in c:\\users\\dazam\\anaconda\\lib\\site-packages (from notebook>=4.4.1->widgetsnbextension~=3.5.0->ipywidgets) (0.11.0)\n",
      "Requirement already satisfied: pywinpty>=0.5 in c:\\users\\dazam\\anaconda\\lib\\site-packages (from terminado>=0.8.3->notebook>=4.4.1->widgetsnbextension~=3.5.0->ipywidgets) (0.5.7)\n",
      "Requirement already satisfied: cffi>=1.0.0 in c:\\users\\dazam\\anaconda\\lib\\site-packages (from argon2-cffi->notebook>=4.4.1->widgetsnbextension~=3.5.0->ipywidgets) (1.14.6)\n",
      "Requirement already satisfied: pycparser in c:\\users\\dazam\\anaconda\\lib\\site-packages (from cffi>=1.0.0->argon2-cffi->notebook>=4.4.1->widgetsnbextension~=3.5.0->ipywidgets) (2.20)\n",
      "Requirement already satisfied: MarkupSafe>=0.23 in c:\\users\\dazam\\anaconda\\lib\\site-packages (from jinja2->notebook>=4.4.1->widgetsnbextension~=3.5.0->ipywidgets) (1.1.1)\n",
      "Requirement already satisfied: jupyterlab-pygments in c:\\users\\dazam\\anaconda\\lib\\site-packages (from nbconvert->notebook>=4.4.1->widgetsnbextension~=3.5.0->ipywidgets) (0.1.2)\n",
      "Requirement already satisfied: nbclient<0.6.0,>=0.5.0 in c:\\users\\dazam\\anaconda\\lib\\site-packages (from nbconvert->notebook>=4.4.1->widgetsnbextension~=3.5.0->ipywidgets) (0.5.3)\n",
      "Requirement already satisfied: pandocfilters>=1.4.1 in c:\\users\\dazam\\anaconda\\lib\\site-packages (from nbconvert->notebook>=4.4.1->widgetsnbextension~=3.5.0->ipywidgets) (1.4.3)\n",
      "Requirement already satisfied: mistune<2,>=0.8.1 in c:\\users\\dazam\\anaconda\\lib\\site-packages (from nbconvert->notebook>=4.4.1->widgetsnbextension~=3.5.0->ipywidgets) (0.8.4)\n",
      "Requirement already satisfied: defusedxml in c:\\users\\dazam\\anaconda\\lib\\site-packages (from nbconvert->notebook>=4.4.1->widgetsnbextension~=3.5.0->ipywidgets) (0.7.1)\n",
      "Requirement already satisfied: entrypoints>=0.2.2 in c:\\users\\dazam\\anaconda\\lib\\site-packages (from nbconvert->notebook>=4.4.1->widgetsnbextension~=3.5.0->ipywidgets) (0.3)\n",
      "Requirement already satisfied: bleach in c:\\users\\dazam\\anaconda\\lib\\site-packages (from nbconvert->notebook>=4.4.1->widgetsnbextension~=3.5.0->ipywidgets) (4.0.0)\n",
      "Requirement already satisfied: testpath in c:\\users\\dazam\\anaconda\\lib\\site-packages (from nbconvert->notebook>=4.4.1->widgetsnbextension~=3.5.0->ipywidgets) (0.5.0)\n",
      "Requirement already satisfied: nest-asyncio in c:\\users\\dazam\\anaconda\\lib\\site-packages (from nbclient<0.6.0,>=0.5.0->nbconvert->notebook>=4.4.1->widgetsnbextension~=3.5.0->ipywidgets) (1.5.1)\n",
      "Requirement already satisfied: async-generator in c:\\users\\dazam\\anaconda\\lib\\site-packages (from nbclient<0.6.0,>=0.5.0->nbconvert->notebook>=4.4.1->widgetsnbextension~=3.5.0->ipywidgets) (1.10)\n",
      "Requirement already satisfied: packaging in c:\\users\\dazam\\anaconda\\lib\\site-packages (from bleach->nbconvert->notebook>=4.4.1->widgetsnbextension~=3.5.0->ipywidgets) (21.0)\n",
      "Requirement already satisfied: webencodings in c:\\users\\dazam\\anaconda\\lib\\site-packages (from bleach->nbconvert->notebook>=4.4.1->widgetsnbextension~=3.5.0->ipywidgets) (0.5.1)\n",
      "Requirement already satisfied: pyparsing>=2.0.2 in c:\\users\\dazam\\anaconda\\lib\\site-packages (from packaging->bleach->nbconvert->notebook>=4.4.1->widgetsnbextension~=3.5.0->ipywidgets) (3.0.4)\n"
     ]
    }
   ],
   "source": [
    "#Cargar librerías\n",
    "# Datos y Gráficas\n",
    "%matplotlib inline\n",
    "!pip install ipywidgets\n",
    "import matplotlib.pyplot as plt\n",
    "import pandas as pd\n",
    "import numpy as np\n",
    "import sympy\n",
    "from sympy.physics.mechanics import *\n",
    "\n",
    "# ODE\n",
    "from scipy import integrate"
   ]
  },
  {
   "cell_type": "code",
   "execution_count": 2,
   "id": "f993f77f",
   "metadata": {},
   "outputs": [
    {
     "data": {
      "text/plain": [
       "<function __main__.ode(variables, t)>"
      ]
     },
     "execution_count": 2,
     "metadata": {},
     "output_type": "execute_result"
    }
   ],
   "source": [
    "#Paso 1. Definir la función f(x,t)\n",
    "\n",
    "def ode(variables, t):\n",
    "    # Variables\n",
    "    x = variables[0]\n",
    "    y = variables[1]\n",
    "    \n",
    "    # Ecuaciones\n",
    "    dx_dt = -y+ x*(1-x**2-y**2)\n",
    "    dy_dt = x+y*(1-x**2-y**2)\n",
    "    \n",
    "    return [dx_dt, dy_dt]\n",
    "\n",
    "ode"
   ]
  },
  {
   "cell_type": "code",
   "execution_count": 3,
   "id": "b4dad7e1",
   "metadata": {},
   "outputs": [
    {
     "data": {
      "text/plain": [
       "[0, 1]"
      ]
     },
     "execution_count": 3,
     "metadata": {},
     "output_type": "execute_result"
    }
   ],
   "source": [
    "#Paso 2. Condiciones Iniciales\n",
    "condiciones_iniciales = [0,1] #[x0,y0]\n",
    "condiciones_iniciales"
   ]
  },
  {
   "cell_type": "code",
   "execution_count": 4,
   "id": "7aec29de",
   "metadata": {},
   "outputs": [
    {
     "data": {
      "text/plain": [
       "array([ 0.        ,  0.20408163,  0.40816327,  0.6122449 ,  0.81632653,\n",
       "        1.02040816,  1.2244898 ,  1.42857143,  1.63265306,  1.83673469,\n",
       "        2.04081633,  2.24489796,  2.44897959,  2.65306122,  2.85714286,\n",
       "        3.06122449,  3.26530612,  3.46938776,  3.67346939,  3.87755102,\n",
       "        4.08163265,  4.28571429,  4.48979592,  4.69387755,  4.89795918,\n",
       "        5.10204082,  5.30612245,  5.51020408,  5.71428571,  5.91836735,\n",
       "        6.12244898,  6.32653061,  6.53061224,  6.73469388,  6.93877551,\n",
       "        7.14285714,  7.34693878,  7.55102041,  7.75510204,  7.95918367,\n",
       "        8.16326531,  8.36734694,  8.57142857,  8.7755102 ,  8.97959184,\n",
       "        9.18367347,  9.3877551 ,  9.59183673,  9.79591837, 10.        ])"
      ]
     },
     "execution_count": 4,
     "metadata": {},
     "output_type": "execute_result"
    }
   ],
   "source": [
    "#Paso 3. Puntos de tiempo\n",
    "start = 0\n",
    "stop = 10\n",
    "num = 50\n",
    "\n",
    "tiempo = np.linspace(start,stop,num)\n",
    "tiempo"
   ]
  },
  {
   "cell_type": "code",
   "execution_count": 5,
   "id": "85190ca0",
   "metadata": {},
   "outputs": [
    {
     "data": {
      "text/plain": [
       "array([[ 0.        ,  1.        ],\n",
       "       [-0.20266792,  0.97924752],\n",
       "       [-0.39692413,  0.91785142],\n",
       "       [-0.57470603,  0.81835994],\n",
       "       [-0.72863477,  0.68490246],\n",
       "       [-0.85232156,  0.52301813],\n",
       "       [-0.94063277,  0.33942596],\n",
       "       [-0.98990307,  0.14174593],\n",
       "       [-0.99808749, -0.06181725],\n",
       "       [-0.96484632, -0.26281471],\n",
       "       [-0.89155926, -0.45290407],\n",
       "       [-0.78126806, -0.62419567],\n",
       "       [-0.63855036, -0.76958004],\n",
       "       [-0.46932966, -0.88302303],\n",
       "       [-0.28062945, -0.95981619],\n",
       "       [-0.08028172, -0.99677221],\n",
       "       [ 0.12339809, -0.99235725],\n",
       "       [ 0.32195626, -0.94675454],\n",
       "       [ 0.50715166, -0.86185683],\n",
       "       [ 0.67129774, -0.74118779],\n",
       "       [ 0.80758164, -0.58975579],\n",
       "       [ 0.91034691, -0.413846  ],\n",
       "       [ 0.97532827, -0.22075955],\n",
       "       [ 0.99982867, -0.01851049],\n",
       "       [ 0.98283123,  0.18450686],\n",
       "       [ 0.92504142,  0.37986627],\n",
       "       [ 0.8288578 ,  0.55945934],\n",
       "       [ 0.69827248,  0.71583207],\n",
       "       [ 0.53870538,  0.84249422],\n",
       "       [ 0.35677935,  0.93418869],\n",
       "       [ 0.1600452 ,  0.98710969],\n",
       "       [-0.04333161,  0.99906075],\n",
       "       [-0.24490995,  0.96954583],\n",
       "       [-0.43632331,  0.89978996],\n",
       "       [-0.60962708,  0.79268835],\n",
       "       [-0.75762832,  0.65268625],\n",
       "       [-0.87418422,  0.48559443],\n",
       "       [-0.95445715,  0.29834805],\n",
       "       [-0.99511538,  0.09871874],\n",
       "       [-0.9944714 , -0.10500788],\n",
       "       [-0.95255193, -0.30437615],\n",
       "       [-0.87109683, -0.49111131],\n",
       "       [-0.75348691, -0.65746292],\n",
       "       [-0.60460355, -0.79652656],\n",
       "       [-0.43062615, -0.9025304 ],\n",
       "       [-0.23877564, -0.97107477],\n",
       "       [-0.03701475, -0.99931473],\n",
       "       [ 0.16628243, -0.98607818],\n",
       "       [ 0.36267807, -0.9319145 ],\n",
       "       [ 0.54402078, -0.83907176]])"
      ]
     },
     "execution_count": 5,
     "metadata": {},
     "output_type": "execute_result"
    }
   ],
   "source": [
    "# PASO 4. Solcionar ODE\n",
    "sol = integrate.odeint(func=ode, \n",
    "                       y0=condiciones_iniciales, \n",
    "                       t=tiempo)\n",
    "\n",
    "sol"
   ]
  },
  {
   "cell_type": "code",
   "execution_count": 7,
   "id": "9dfad738",
   "metadata": {},
   "outputs": [
    {
     "data": {
      "application/vnd.jupyter.widget-view+json": {
       "model_id": "be8efe6e339242deac100ef843eea8c9",
       "version_major": 2,
       "version_minor": 0
      },
      "text/plain": [
       "interactive(children=(FloatSlider(value=0.0, description='alpha', max=1.0), FloatSlider(value=5.0, description…"
      ]
     },
     "metadata": {},
     "output_type": "display_data"
    },
    {
     "data": {
      "text/plain": [
       "<function __main__.f(alpha, t)>"
      ]
     },
     "execution_count": 7,
     "metadata": {},
     "output_type": "execute_result"
    }
   ],
   "source": [
    "def formato_grafica(titulo, ejex, ejey, leyenda=False, xlim=[None, None], ylim=[None, None]):\n",
    "    plt.rcParams['axes.axisbelow'] = True\n",
    "\n",
    "    plt.title(titulo, fontsize=15)\n",
    "    plt.ylabel(ejey, fontsize=13)\n",
    "    plt.xlabel(ejex, fontsize=13)\n",
    "\n",
    "    plt.tick_params(direction='out', length=5, width=0.75, grid_alpha=0.3)\n",
    "    plt.xticks(rotation=0)\n",
    "    plt.minorticks_on()\n",
    "    plt.ylim(ylim[0], ylim[1])\n",
    "    plt.xlim(xlim[0], xlim[1])\n",
    "    plt.grid(True)\n",
    "    plt.grid(visible=True, which='major', color='grey', linestyle='-')\n",
    "    plt.grid(visible=True, which='minor', color='lightgrey', linestyle='-', alpha=0.2)\n",
    "    \n",
    "    if leyenda == True:\n",
    "        plt.legend(loc='best')\n",
    "    \n",
    "    plt.tight_layout;\n",
    "\n",
    "import ipywidgets as widgets\n",
    "sol\n",
    "def f(alpha, t):\n",
    "    t = tiempo\n",
    "    sol = integrate.odeint(func=ode, \n",
    "                       y0=condiciones_iniciales, \n",
    "                       t=tiempo)\n",
    "\n",
    "    \n",
    "    w = 3\n",
    "    x = np.linspace(-w, w, 101)\n",
    "    y = np.linspace(-w, w, 101)\n",
    "    # full coordinate arrays\n",
    "    X, Y = np.meshgrid(x, y)\n",
    "    U = alpha*X - alpha*(X**2 + Y**2)*X - Y\n",
    "    V = alpha*Y - alpha*(X**2 + Y**2)*Y + X\n",
    "    \n",
    "    fig, ax = plt.subplots(figsize=(5,5))\n",
    "    ax.plot(sol[:, 0], sol[:, 1], linestyle='-', linewidth=1, color='dodgerblue', label='Solución Numérica')\n",
    "    ax.streamplot(X,Y,U,V)\n",
    "\n",
    "    formato_grafica (titulo='Comportamiento ODE', \n",
    "                ejex='Tiempo ($t$)', \n",
    "                ejey='$x(t)$, $y(t)$',\n",
    "                leyenda=True)\n",
    "        \n",
    "#Para poder desplegar la gráfica utilice la siguiente línea de código:\n",
    "widgets.interact(f, alpha=(0, 1, 0.1), t=(0, 10, 0.1))\n"
   ]
  },
  {
   "cell_type": "markdown",
   "id": "7e91a521",
   "metadata": {},
   "source": [
    "1. Varie $\\alpha$ tres veces y comente los resultados.\n",
    "2. Varie el tiempo y comente lo que observa. "
   ]
  },
  {
   "cell_type": "markdown",
   "id": "853a84d3",
   "metadata": {},
   "source": [
    "1. Se tomaron los valores alpha = 0.1, 0.4, 1\n",
    "Para la variación de alpha se observa cómo el sentido de las flechas no se mantiene constante, al igual que el flujo de movimiento. En general, se observa como a medida que aumenta alpha se obtiene un comportamiento similar a aquel de un remolino, donde en el centro las trayectorias apuntan al origen. Por ejemplo, cuando alpha tiene un valor de cero se observan círculos que siguen un mismo sentido. Por otra parte, cuando alpha adopta un valor de 0.4 la trayectoria de las flechas cambia, siendo distina para cada caso, dirigiendose hacia el centro. Finalmente, con un valor de 1 se sigue observando este comportamiento, en el cual las trayectorias apuntan al centro de la gráfica. \n",
    "\n",
    "\n",
    "2. Se tomaron los valores de t = 0, 5, 10\n",
    "Se puede observar como el tiempo no influye en la solución numérica."
   ]
  }
 ],
 "metadata": {
  "kernelspec": {
   "display_name": "Python 3 (ipykernel)",
   "language": "python",
   "name": "python3"
  },
  "language_info": {
   "codemirror_mode": {
    "name": "ipython",
    "version": 3
   },
   "file_extension": ".py",
   "mimetype": "text/x-python",
   "name": "python",
   "nbconvert_exporter": "python",
   "pygments_lexer": "ipython3",
   "version": "3.9.7"
  }
 },
 "nbformat": 4,
 "nbformat_minor": 5
}
