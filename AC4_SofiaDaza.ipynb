{
 "cells": [
  {
   "attachments": {},
   "cell_type": "markdown",
   "metadata": {},
   "source": [
    "# IMEC2001 Herramientas Computacionales \n",
    "## Actividad Clase 4: Visualizaciones\n",
    "### Fecha Límite Entrega (Bloque Neón): <font color=\"#FF5733\">2359 de Agosto 28, 2023</font>\n",
    "\n",
    "Universidad de los Andes — Agosto 23, 2023.\n",
    "\n",
    "___\n",
    "### Tener en Cuenta\n",
    "La entrega de la **Actividad Clase 4** se puede realizar de dos maneras:\n",
    "1. Enviar vía Bloque Neón el archivo en Jupyter Notebook (extensión '.ipynb').\n",
    "2. Enviar vía Bloque Neón el archivo PDF del Jupyter Notebook.\n",
    "\n",
    "**Nota:** <font color=\"#FF5733\">El nombre del archivo debe ser: `AC4_NombreApellido.ipynb`.</font>\n",
    "\n",
    "---\n",
    "\n",
    "## TABLA DE CONTENIDO\n",
    "\n",
    "### Sección 1: Ejercicios [→](#section1)\n",
    "1. Librerías [→](#exercise1)\n",
    "2. Gráficas [→](#exercise2)\n",
    "3. (BONO) Comportamiento Estadístico Mensual [→](#exercise3)\n",
    "___"
   ]
  },
  {
   "cell_type": "markdown",
   "metadata": {},
   "source": [
    "<a id=\"section1\"></a>\n",
    "# Sección 1: Ejercicios"
   ]
  },
  {
   "cell_type": "markdown",
   "metadata": {},
   "source": [
    "<a id=\"exercise1\"></a>\n",
    "## Ejercicio 1: Librerías\n",
    "\n",
    "### Punto 1\n",
    "En la carpeta `data` dentro de `week2` se dispone el archivo `solar_production.csv` que contiene datos de producción de la planta solar fotovoltaica ubicada en el edificio Santo Domingo de la Universidad de los Andes.\n",
    "\n",
    "<div class=\"alert alert-block alert-warning\">\n",
    "    \n",
    "Utilizando la librería `pandas`, escriba un algoritmo que permita:\n",
    "1. Indicar la cantidad de filas y columnas que tiene el conjunto de datos.\n",
    "2. Obtener una descripción estadística de las columnas de datos. Para esto, explore la función `describe()`.\n",
    "3. Indicar los años y meses en que se registraron los datos, guardarlos en una variable diferente cada uno (i.e., una variable para los años y otra para los meses) y no deben quedar valores duplicados ([aquí](https://pandas.pydata.org/docs/reference/api/pandas.DataFrame.drop_duplicates.html)).\n",
    "\n",
    "</div>"
   ]
  },
  {
   "cell_type": "code",
   "execution_count": 2,
   "metadata": {},
   "outputs": [
    {
     "name": "stdout",
     "output_type": "stream",
     "text": [
      "                         Datetime  Zenith (deg)  Elevation (deg)  \\\n",
      "0       2020-01-01 00:00:00-05:00        161.56           -71.56   \n",
      "1       2020-01-01 00:05:00-05:00        161.51           -71.51   \n",
      "2       2020-01-01 00:10:00-05:00        161.39           -71.39   \n",
      "3       2020-01-01 00:15:00-05:00        161.19           -71.19   \n",
      "4       2020-01-01 00:20:00-05:00        160.91           -70.91   \n",
      "...                           ...           ...              ...   \n",
      "105401  2020-12-31 23:40:00-05:00        161.01           -71.01   \n",
      "105402  2020-12-31 23:45:00-05:00        161.28           -71.28   \n",
      "105403  2020-12-31 23:50:00-05:00        161.47           -71.47   \n",
      "105404  2020-12-31 23:55:00-05:00        161.59           -71.59   \n",
      "105405  2021-01-01 00:00:00-05:00        161.62           -71.62   \n",
      "\n",
      "        Azimuth (deg)  Airmass Relative (ad)  Airmass Absolute (ad)  \\\n",
      "0              179.60                    NaN                    NaN   \n",
      "1              175.97                    NaN                    NaN   \n",
      "2              172.38                    NaN                    NaN   \n",
      "3              168.85                    NaN                    NaN   \n",
      "4              165.41                    NaN                    NaN   \n",
      "...               ...                    ...                    ...   \n",
      "105401         194.12                    NaN                    NaN   \n",
      "105402         190.66                    NaN                    NaN   \n",
      "105403         187.11                    NaN                    NaN   \n",
      "105404         183.50                    NaN                    NaN   \n",
      "105405         179.85                    NaN                    NaN   \n",
      "\n",
      "        Extraterrestrial Radiation (W/m2)  POA (W/m2)  Tmod (C)  Pdc (W)  \\\n",
      "0                                 1407.65         0.0     27.48      0.0   \n",
      "1                                 1407.65         0.0     27.36      0.0   \n",
      "2                                 1407.65         0.0     26.91      0.0   \n",
      "3                                 1407.65         0.0     26.33      0.0   \n",
      "4                                 1407.65         0.0     25.79      0.0   \n",
      "...                                   ...         ...       ...      ...   \n",
      "105401                            1407.73         0.0     24.34      0.0   \n",
      "105402                            1407.73         0.0     24.41      0.0   \n",
      "105403                            1407.73         0.0     24.19      0.0   \n",
      "105404                            1407.73         0.0     24.09      0.0   \n",
      "105405                            1407.73         0.0     23.76      0.0   \n",
      "\n",
      "        Pac (W)  Daily Energy (Wh)  Weekly Energy (Wh)  Monthly Energy (Wh)  \n",
      "0           0.0          257541.88                 NaN                  NaN  \n",
      "1           0.0                NaN                 NaN                  NaN  \n",
      "2           0.0                NaN                 NaN                  NaN  \n",
      "3           0.0                NaN                 NaN                  NaN  \n",
      "4           0.0                NaN                 NaN                  NaN  \n",
      "...         ...                ...                 ...                  ...  \n",
      "105401      0.0                NaN                 NaN                  NaN  \n",
      "105402      0.0                NaN                 NaN                  NaN  \n",
      "105403      0.0                NaN                 NaN                  NaN  \n",
      "105404      0.0                NaN                 NaN                  NaN  \n",
      "105405      0.0          207953.53                 NaN                  NaN  \n",
      "\n",
      "[105406 rows x 14 columns]\n"
     ]
    }
   ],
   "source": [
    "import pandas as pd\n",
    "\n",
    "route = (r\"C:\\Users\\dazam\\OneDrive\\Documents\\GitHub\\imec-2001-sofiadaza\\Semana III\\solar_production.csv\")\n",
    "file = pd.read_csv(filepath_or_buffer=route, delimiter=';')\n",
    "print(file)"
   ]
  },
  {
   "cell_type": "code",
   "execution_count": 3,
   "metadata": {},
   "outputs": [
    {
     "name": "stdout",
     "output_type": "stream",
     "text": [
      "        Zenith (deg)  Elevation (deg)  Azimuth (deg)  Airmass Relative (ad)  \\\n",
      "count  105406.000000    105406.000000  105406.000000           53005.000000   \n",
      "mean       89.958175         0.041825     180.010195               3.235606   \n",
      "std        47.384955        47.384955      96.915780               4.951124   \n",
      "min         0.100000       -89.910000       0.000000               1.000000   \n",
      "25%        47.542500       -42.380000      89.000000               1.140000   \n",
      "50%        90.010000        -0.010000     179.995000               1.490000   \n",
      "75%       132.380000        42.457500     271.020000               2.760000   \n",
      "max       179.910000        89.900000     359.940000              37.920000   \n",
      "\n",
      "       Airmass Absolute (ad)  Extraterrestrial Radiation (W/m2)  \\\n",
      "count           53005.000000                      105406.000000   \n",
      "mean                2.345593                        1361.284829   \n",
      "std                 3.589171                          32.248608   \n",
      "min                 0.720000                        1316.670000   \n",
      "25%                 0.830000                        1328.970000   \n",
      "50%                 1.080000                        1360.430000   \n",
      "75%                 2.000000                        1393.490000   \n",
      "max                27.490000                        1407.780000   \n",
      "\n",
      "          POA (W/m2)       Tmod (C)        Pdc (W)        Pac (W)  \\\n",
      "count  105258.000000  105258.000000  105258.000000  105406.000000   \n",
      "mean      165.477955      35.778582    8373.424878    8131.012223   \n",
      "std       266.974912      16.454666   13014.910248   12731.670348   \n",
      "min         0.000000       8.150000       0.000000       0.000000   \n",
      "25%         0.000000      23.990000       0.000000       0.000000   \n",
      "50%         0.710000      28.050000      31.165000       0.000000   \n",
      "75%       250.635000      45.840000   13413.970000   13007.420000   \n",
      "max      1429.700000      91.640000   62276.030000   60841.010000   \n",
      "\n",
      "       Daily Energy (Wh)  Weekly Energy (Wh)  Monthly Energy (Wh)  \n",
      "count         367.000000        5.200000e+01         1.200000e+01  \n",
      "mean       195175.503433        1.366507e+06         5.951788e+06  \n",
      "std         65821.008745        2.857377e+05         8.715575e+05  \n",
      "min         60781.780000        7.744012e+05         4.420267e+06  \n",
      "25%        145493.845000        1.183230e+06         5.578678e+06  \n",
      "50%        185988.210000        1.300452e+06         6.056150e+06  \n",
      "75%        232890.295000        1.543478e+06         6.378667e+06  \n",
      "max        372714.970000        2.181836e+06         7.521495e+06  \n"
     ]
    }
   ],
   "source": [
    "# Ítem 1\n",
    "desc = file.describe()\n",
    "print (desc)\n"
   ]
  },
  {
   "cell_type": "code",
   "execution_count": 6,
   "metadata": {},
   "outputs": [
    {
     "name": "stdout",
     "output_type": "stream",
     "text": [
      "0         2020\n",
      "1         2020\n",
      "2         2020\n",
      "3         2020\n",
      "4         2020\n",
      "          ... \n",
      "105401    2020\n",
      "105402    2020\n",
      "105403    2020\n",
      "105404    2020\n",
      "105405    2021\n",
      "Name: Año, Length: 105406, dtype: int64\n"
     ]
    }
   ],
   "source": [
    "# Ítem 2\n",
    "from datetime import datetime\n",
    "def separar_año(fecha):\n",
    "    fecha_a = datetime.strptime(fecha, \"%Y-%m-%d %H:%M:%S%z\")\n",
    "    return fecha_a.year\n",
    "\n",
    "file['Año'] = file['Datetime'].apply(separar_año)\n",
    "\n",
    "print(file['Año'])\n"
   ]
  },
  {
   "cell_type": "code",
   "execution_count": 7,
   "metadata": {},
   "outputs": [
    {
     "name": "stdout",
     "output_type": "stream",
     "text": [
      "0          1\n",
      "1          1\n",
      "2          1\n",
      "3          1\n",
      "4          1\n",
      "          ..\n",
      "105401    12\n",
      "105402    12\n",
      "105403    12\n",
      "105404    12\n",
      "105405     1\n",
      "Name: Mes, Length: 105406, dtype: int64\n"
     ]
    }
   ],
   "source": [
    "# Ítem 3\n",
    "def separar_mes(fecha):\n",
    "    fecha_m = datetime.strptime(fecha, \"%Y-%m-%d %H:%M:%S%z\")\n",
    "    return fecha_m.month\n",
    "\n",
    "file['Mes'] = file['Datetime'].apply(separar_mes)\n",
    "\n",
    "print(file['Mes'])\n"
   ]
  },
  {
   "cell_type": "markdown",
   "metadata": {},
   "source": [
    "### Punto 2\n",
    "\n",
    "<div class=\"alert alert-block alert-warning\">\n",
    "    \n",
    "Utilizando la librería `numpy`, escriba un algoritmo que:\n",
    "1. Cree una función que permita realizar una lista de ceros de longitud `n`(este debe ser el parámetor de entrada). \n",
    "2. Cree una función que haga una lista con un rango desde `num1` hasta `num2` y que tenga 5 elementos ([aquí](https://numpy.org/doc/stable/reference/generated/numpy.linspace.html)); para los anteriores la entrada es con `input()`.\n",
    "\n",
    "</div>"
   ]
  },
  {
   "cell_type": "code",
   "execution_count": 8,
   "metadata": {},
   "outputs": [
    {
     "name": "stdout",
     "output_type": "stream",
     "text": [
      "Array de ceros:  [0. 0. 0. 0. 0. 0.]\n"
     ]
    }
   ],
   "source": [
    "# Ítem 1\n",
    "import numpy as np\n",
    "\n",
    "def array_de_ceros(n):\n",
    "    lista = np.empty(n)  # Crear un array original vacío con la forma n\n",
    "    return np.zeros_like(lista)\n",
    "\n",
    "print(\"Array de ceros: \", array_de_ceros(6))"
   ]
  },
  {
   "cell_type": "code",
   "execution_count": 12,
   "metadata": {},
   "outputs": [
    {
     "name": "stdout",
     "output_type": "stream",
     "text": [
      "[10.  12.5 15.  17.5 20. ]\n"
     ]
    }
   ],
   "source": [
    "# Ítem 2\n",
    "import numpy as np\n",
    "\n",
    "num1 = float(input(\"Ingresa un número por favor: \"))\n",
    "num2 = float(input(\"Ingresa un segundo número: \"))\n",
    "\n",
    "def crear_lista(num1, num2) -> list:\n",
    "    lista = np.linspace(num1, num2, 5)\n",
    "    return lista\n",
    "\n",
    "print(crear_lista(num1, num2))\n",
    "\n"
   ]
  },
  {
   "cell_type": "markdown",
   "metadata": {},
   "source": [
    "<a id='exercise2'></a>\n",
    "### Ejercicio 2: Gráficas\n",
    "\n",
    "En la carpeta `data` dentro de `week2` se dispone el archivo `solar_production.csv` que contiene datos de producción de la planta solar fotovoltaica ubicada en el edificio Santo Domingo de la Universidad de los Andes.\n",
    "\n",
    "<div class=\"alert alert-block alert-warning\">\n",
    "    \n",
    "Utilizando la librería `pandas` y `matplotlib.pyplot`, escriba un algoritmo que permita realizar tres gráficas diferentes de su interés.\n",
    "\n",
    "</div>"
   ]
  },
  {
   "cell_type": "code",
   "execution_count": 13,
   "metadata": {},
   "outputs": [
    {
     "data": {
      "text/plain": [
       "[<matplotlib.lines.Line2D at 0x25fa0669130>]"
      ]
     },
     "execution_count": 13,
     "metadata": {},
     "output_type": "execute_result"
    },
    {
     "data": {
      "image/png": "[encoded data removed]",
      "text/plain": [
       "<Figure size 504x288 with 1 Axes>"
      ]
     },
     "metadata": {
      "needs_background": "light"
     },
     "output_type": "display_data"
    },
    {
     "data": {
      "image/png": "[encoded data removed]",
      "text/plain": [
       "<Figure size 504x288 with 1 Axes>"
      ]
     },
     "metadata": {
      "needs_background": "light"
     },
     "output_type": "display_data"
    },
    {
     "data": {
      "image/png": "[encoded data removed]",
      "text/plain": [
       "<Figure size 504x288 with 1 Axes>"
      ]
     },
     "metadata": {
      "needs_background": "light"
     },
     "output_type": "display_data"
    }
   ],
   "source": [
    "import matplotlib.pyplot as plt\n",
    "\n",
    "#Gráfica 1: Mes vs. Monthly Energy\n",
    "x = file['Airmass Absolute (ad)']\n",
    "y = file['Airmass Relative (ad)']\n",
    "hor = 7\n",
    "ver = 4\n",
    "\n",
    "plt.figure(figsize=(hor,ver))\n",
    "plt.grid()\n",
    "plt.title('Airmass Absolute (ad) and Airmass Relative (ad) ', fontsize=15) # Título\n",
    "plt.ylabel('Airmass Relative (ad)', fontsize=13) # Etiqueta eje vertical\n",
    "plt.xlabel('Airmass Absolute (ad)', fontsize=13) # Etiqueta eje horizontal\n",
    "plt.plot(x, y, color='teal')\n",
    "\n",
    "#Gráfica 2: Zenith and Elevation (deg)\n",
    "x_1 = file['Zenith (deg)']\n",
    "y_1 = file['Elevation (deg)']\n",
    "hor = 7\n",
    "ver = 4\n",
    "\n",
    "plt.figure(figsize=(hor,ver))\n",
    "plt.grid()\n",
    "plt.title('Zenith (deg) and Elevation (deg) ', fontsize=15) # Título\n",
    "plt.ylabel('Elevation (deg)', fontsize=13) # Etiqueta eje vertical\n",
    "plt.xlabel('Zenith (deg)', fontsize=13) # Etiqueta eje horizontal\n",
    "plt.plot(x_1, y_1, color='orange')\n",
    "\n",
    "#Gráfica 3: POA vs. Pdc\n",
    "x_2 = file['Pdc (W)']\n",
    "y_2= file['POA (W/m2)']\n",
    "hor = 7\n",
    "ver = 4\n",
    "\n",
    "plt.figure(figsize=(hor,ver))\n",
    "plt.grid()\n",
    "plt.title('Pdc (W) and POA (W/m2) ', fontsize=15) # Título\n",
    "plt.ylabel('POA (W/m2)', fontsize=13) # Etiqueta eje vertical\n",
    "plt.xlabel('Pdc (W)', fontsize=13) # Etiqueta eje horizontal\n",
    "plt.plot(x_2, y_2, color='darkblue')"
   ]
  },
  {
   "cell_type": "markdown",
   "metadata": {},
   "source": [
    "<a id='exercise3'></a>\n",
    "### (BONO) Ejercicio 3: Comportamiento Estadístico Mensual\n",
    "\n",
    "En la carpeta `data` dentro de `week2` se dispone el archivo `SD_5Min.xlsx` que contiene las **mediciones** de los valores de producción de la planta solar fotovoltaica ubicada en el edificio Santo Domingo de la Universidad de los Andes, desde 1-Agosto-2019 hasta 30-Junio-2021.\n",
    "\n",
    "<div class=\"alert alert-block alert-warning\">\n",
    "    \n",
    "Escriba un algoritmo que permita obtener los valores máximo, promedio y mínimo para todos los días de un mes durante cada instante de tiempo. Es decir:\n",
    "\n",
    "<img src='./img/table_excercise.png' width='650'/>\n",
    "\n",
    "Note que:\n",
    "- La primera columna contiene las estampas de tiempo para un día completo, es decir, un dato cinco minutal desde las 00:00 hasta las 23:55.\n",
    "- Se tiene una columna de datos de irradiancia por día; es decir, 30 o 31 columnas de datos.\n",
    "- Se agregan las columnas de interés: mínimo, promedio y máximo. Estas son columnas calculadas con las 30 o 31 columnas de datos. Por ejemplo:\n",
    "    - Columna: Mínimo, Fila: 11:55 -> min(800, 700, 880, ..., 630) = 630\n",
    "    - Columna: Promedio, Fila: 12:00 -> mean(850, 680, 930, ..., 720) = 795\n",
    "    - Columna: Máximo, Fila: 12:05 -> max(1010, 810, 850, ..., 760) = 1010\n",
    "- La gráfica se genera al graficar en una misma figura: (i.) Tiempo vs Mín, (ii.) Tiempo vs Prom, (iii.) Tiempo vs. Max.\n",
    "</div>\n",
    "\n",
    "___\n",
    "\n",
    "**Ejemplo** <br>\n",
    "<font color=\"#FF5733\">Output</font>\n",
    "<img src='./img/irradiance_per_minute.png' width='750'/>\n",
    "\n",
    "**Nota:** Solo se solicita la gráfica de los datos mínimo, promedio y máximo, es decir, los marcadores color azul, verde y naranja en esta figura.\n",
    "___"
   ]
  },
  {
   "cell_type": "code",
   "execution_count": null,
   "metadata": {},
   "outputs": [],
   "source": []
  }
 ],
 "metadata": {
  "kernelspec": {
   "display_name": "Python 3 (ipykernel)",
   "language": "python",
   "name": "python3"
  },
  "language_info": {
   "codemirror_mode": {
    "name": "ipython",
    "version": 3
   },
   "file_extension": ".py",
   "mimetype": "text/x-python",
   "name": "python",
   "nbconvert_exporter": "python",
   "pygments_lexer": "ipython3",
   "version": "3.9.7"
  },
  "toc": {
   "base_numbering": 1,
   "nav_menu": {},
   "number_sections": false,
   "sideBar": true,
   "skip_h1_title": true,
   "title_cell": "Table of Contents",
   "title_sidebar": "Contents",
   "toc_cell": false,
   "toc_position": {},
   "toc_section_display": true,
   "toc_window_display": false
  }
 },
 "nbformat": 4,
 "nbformat_minor": 2
}
