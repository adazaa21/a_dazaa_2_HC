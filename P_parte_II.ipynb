{
 "cells": [
  {
   "cell_type": "markdown",
   "metadata": {},
   "source": [
    "Proyecto Herramientas Computacionales: Parte II\n",
    "\n",
    "Nombres:\n",
    "\n",
    "Andrea Sofía Daza Ayala\n",
    "\n",
    "Stefanny Figueredo"
   ]
  },
  {
   "cell_type": "markdown",
   "metadata": {},
   "source": [
    "ÍTEM I\n",
    "\n",
    "![Alt text](image-23.png)\n",
    "\n",
    "![Alt text](image-24.png)"
   ]
  },
  {
   "cell_type": "markdown",
   "metadata": {},
   "source": [
    "1. Utilice la ecuación (2) para reemplazar en la ecuación (1) y encontrar una en términos de la carga.  "
   ]
  },
  {
   "cell_type": "code",
   "execution_count": 94,
   "metadata": {},
   "outputs": [
    {
     "data": {
      "text/latex": [
       "$\\displaystyle - \\frac{R \\frac{d}{d t} Q{\\left(t \\right)}}{L} - \\frac{Q{\\left(t \\right)}}{C L} = \\frac{d^{2}}{d t^{2}} Q{\\left(t \\right)}$"
      ],
      "text/plain": [
       "Eq(-R*Derivative(Q(t), t)/L - Q(t)/(C*L), Derivative(Q(t), (t, 2)))"
      ]
     },
     "execution_count": 94,
     "metadata": {},
     "output_type": "execute_result"
    }
   ],
   "source": [
    "import sympy as sp\n",
    "\n",
    "# Definir símbolos y funciones\n",
    "L, R, C= sp.symbols('L R C')\n",
    "\n",
    "# Definir símbolos y funciones\n",
    "t = sp.symbols('t')\n",
    "Q = sp.Function('Q')(t)\n",
    "\n",
    "# Definir I como la primera derivada de Q con respecto a t\n",
    "I = Q.diff(t)\n",
    "\n",
    "# Calcular la segunda derivada de I con respecto a t\n",
    "segunda_der = I.diff(t)\n",
    "\n",
    "# Escribir la ecuación diferencial sin evaluar las derivadas\n",
    "eq_diferencial = sp.Eq(L * segunda_der + R * I + 1/C * Q, V)\n",
    "eq_diferencial\n",
    "\n",
    "sol_eq_diferencial = sp.Eq(-(1/C * Q)/L-(R * I)/L, segunda_der)\n",
    "sol_eq_diferencial"
   ]
  },
  {
   "cell_type": "markdown",
   "metadata": {},
   "source": [
    "2. De la expresión del item (1) despeje la derivada de mayor orden, de esta operación debe identificar los dos coeficientes que se obtengan. (Ayuda: la inductancia debe quedar dividiendo cada uno de los términos). "
   ]
  },
  {
   "cell_type": "code",
   "execution_count": 146,
   "metadata": {},
   "outputs": [],
   "source": [
    "# Coeficientes de la expresión en el lado izquierdo de la ecuación\n",
    "coeficientes = sp.collect(sol_eq_diferencial.lhs, (Q, segunda_der), evaluate=False)\n",
    "coeficientes\n",
    "\n",
    "coef_1 = -1 #Dado\n",
    "coef_2 = 9 #Dado\n",
    "\n"
   ]
  },
  {
   "cell_type": "markdown",
   "metadata": {},
   "source": [
    "3.  Cree una función teniendo en cuenta lo visto en clase en donde se tenga la ecuación de 2; además, este debe retornar la primera y segunda derivada."
   ]
  },
  {
   "cell_type": "code",
   "execution_count": 110,
   "metadata": {},
   "outputs": [
    {
     "name": "stdout",
     "output_type": "stream",
     "text": [
      "Primera derivada: Derivative(Q(t), t)\n",
      "Segunda derivada: Derivative(Q(t), (t, 2))\n"
     ]
    }
   ],
   "source": [
    "import sympy as sp\n",
    "\n",
    "def calcular_derivadas(funcion, variable):\n",
    "    # Calcular la primera derivada de la función con respecto a la variable\n",
    "    primera_derivada = funcion.diff(variable)\n",
    "    \n",
    "    # Calcular la segunda derivada de la función con respecto a la variable\n",
    "    segunda_derivada = primera_derivada.diff(variable)\n",
    "    \n",
    "    return primera_derivada, segunda_derivada\n",
    "\n",
    "# Definir símbolos y funciones\n",
    "t = sp.symbols('t')\n",
    "Q = sp.Function('Q')(t)\n",
    "\n",
    "# Llamar a la función para obtener las derivadas\n",
    "primera_derivada, segunda_derivada = calcular_derivadas(Q, t)\n",
    "\n",
    "# Imprimir las expresiones de las derivadas\n",
    "print(\"Primera derivada:\",primera_derivada)\n",
    "\n",
    "print(\"Segunda derivada:\", segunda_derivada)\n"
   ]
  },
  {
   "cell_type": "markdown",
   "metadata": {},
   "source": [
    "ÍTEM 2\n",
    "\n",
    "\n",
    "1. Para las condicionales iniciales del problema se especifica la corriente y la tensión o voltaje inicial. Para esto utilice estos dos casos: \n",
    "\n",
    "a. I(0)=0;Q(0)=10\n",
    "\n",
    "b.I(0)=2;Q(0)=0\n"
   ]
  },
  {
   "cell_type": "code",
   "execution_count": 115,
   "metadata": {},
   "outputs": [],
   "source": [
    "# Datos y Gráficas\n",
    "%matplotlib inline\n",
    "import matplotlib.pyplot as plt\n",
    "import pandas as pd\n",
    "import numpy as np\n",
    "import sympy\n",
    "from sympy.physics.mechanics import *\n",
    "\n",
    "# ODE\n",
    "from scipy import integrate"
   ]
  },
  {
   "cell_type": "code",
   "execution_count": 133,
   "metadata": {},
   "outputs": [],
   "source": [
    "# PASO 1. Definir la función f(x,t)\n",
    "def ode(variables, t):\n",
    "    # Variables\n",
    "    I = variables[0]\n",
    "    Q = variables[1]\n",
    "    \n",
    "    # Ecuaciones\n",
    "    V = L * dI_dt + R * dQ_dt + 1/C * Q\n",
    "    I = dQ_dt \n",
    "    return [dI_dt, dQ_dt]"
   ]
  },
  {
   "cell_type": "code",
   "execution_count": 130,
   "metadata": {},
   "outputs": [
    {
     "data": {
      "text/plain": [
       "[2, 0]"
      ]
     },
     "execution_count": 130,
     "metadata": {},
     "output_type": "execute_result"
    }
   ],
   "source": [
    "# PASO 2. Condiciones iniciales\n",
    "condiciones_iniciales_1 = [0, 10] # [I0, Q0]\n",
    "condiciones_iniciales_1\n",
    "\n",
    "condiciones_iniciales_2 = [2,0]\n",
    "condiciones_iniciales_2"
   ]
  },
  {
   "cell_type": "markdown",
   "metadata": {},
   "source": [
    "2. Especifique un paso de tiempo de 0 a 20 segundos."
   ]
  },
  {
   "cell_type": "code",
   "execution_count": 139,
   "metadata": {},
   "outputs": [],
   "source": [
    "# PASO 4. Puntos de tiempo\n",
    "start = 0\n",
    "stop = 20\n",
    "num = 100\n",
    "\n",
    "tiempo = np.linspace(start, stop, num)"
   ]
  },
  {
   "cell_type": "markdown",
   "metadata": {},
   "source": [
    "ÍTEM 3\n",
    "\n",
    "Utilizando la librería integrate con odeint para resolver la ecuación diferencial. ¿Al resolver la ecuación qué variables se pueden conocer?"
   ]
  },
  {
   "cell_type": "code",
   "execution_count": 164,
   "metadata": {},
   "outputs": [
    {
     "name": "stdout",
     "output_type": "stream",
     "text": [
      "Resultados de I:\n",
      "[0.00000000e+00 2.14039964e+01 5.65818538e+01 1.23379392e+02\n",
      " 2.56906678e+02 5.28136806e+02 1.08171818e+03 2.21316945e+03\n",
      " 4.52666832e+03 9.25769232e+03 1.89328122e+04 3.87189962e+04\n",
      " 7.91830185e+04 1.61934626e+05 3.31167194e+05 6.77259128e+05\n",
      " 1.38504033e+06 2.83250033e+06 5.79265307e+06 1.18463639e+07\n",
      " 2.42266083e+07 4.95450380e+07 1.01322924e+08 2.07212172e+08\n",
      " 4.23762784e+08 8.66623301e+08 1.77230275e+09 3.62447793e+09\n",
      " 7.41230036e+09 1.51586511e+10 3.10004578e+10 6.33980144e+10\n",
      " 1.29653190e+11 2.65149465e+11 5.42248431e+11 1.10893439e+12\n",
      " 2.26784517e+12 4.63789541e+12 9.48480704e+12 1.93970662e+13\n",
      " 3.96683009e+13 8.11243345e+13 1.65904703e+14 3.39286239e+14\n",
      " 6.93863104e+14 1.41899656e+15 2.90194310e+15 5.93466818e+15\n",
      " 1.21367943e+16 2.48205579e+16 5.07597049e+16 1.03806999e+17\n",
      " 2.12292273e+17 4.34151930e+17 8.87869802e+17 1.81575327e+18\n",
      " 3.71333716e+18 7.59402342e+18 1.55302870e+19 3.17604780e+19\n",
      " 6.49523068e+19 1.32831822e+20 2.71649980e+20 5.55542421e+20\n",
      " 1.13612149e+21 2.32344462e+21 4.75160000e+21 9.71734055e+21\n",
      " 1.98726129e+22 4.06408256e+22 8.31132127e+22 1.69972092e+23\n",
      " 3.47604323e+23 7.10874143e+23 1.45378528e+24 2.97308836e+24\n",
      " 6.08016500e+24 1.24343450e+25 2.54290692e+25 5.20041512e+25\n",
      " 1.06351975e+26 2.17496920e+26 4.44795781e+26 9.09637191e+26\n",
      " 1.86026904e+27 3.80437489e+27 7.78020169e+27 1.59110340e+28\n",
      " 3.25391312e+28 6.65447048e+28 1.36088382e+29 2.78309865e+29\n",
      " 5.69162332e+29 1.16397513e+30 2.38040716e+30 4.86809223e+30\n",
      " 9.95557495e+30 2.03598182e+31 4.16371931e+31 8.51508512e+31]\n",
      "Resultados de Q:\n",
      "[1.00000000e+01 1.20284800e+01 1.95587783e+01 3.69826573e+01\n",
      " 7.38268719e+01 1.49900613e+02 3.05910304e+02 6.25220180e+02\n",
      " 1.27838564e+03 2.61424577e+03 5.34622494e+03 1.09333388e+04\n",
      " 2.23593811e+04 4.57264154e+04 9.35135744e+04 1.91241522e+05\n",
      " 3.91101730e+05 7.99829254e+05 1.63570444e+06 3.34512524e+06\n",
      " 6.84100537e+06 1.39903146e+07 2.86111312e+07 5.85116814e+07\n",
      " 1.19660311e+08 2.44713358e+08 5.00455223e+08 1.02346448e+09\n",
      " 2.09305347e+09 4.28043467e+09 8.75377586e+09 1.79020585e+10\n",
      " 3.66109097e+10 7.48717647e+10 1.53117778e+11 3.13136121e+11\n",
      " 6.40384360e+11 1.30962895e+12 2.67827899e+12 5.47726008e+12\n",
      " 1.12013641e+13 2.29075404e+13 4.68474559e+13 9.58061879e+13\n",
      " 1.95930077e+14 4.00690142e+14 8.19438203e+14 1.67580606e+15\n",
      " 3.42713573e+15 7.00872233e+15 1.43333070e+16 2.93125737e+16\n",
      " 5.99461784e+16 1.22593953e+17 2.50712853e+17 5.12724593e+17\n",
      " 1.04855616e+18 2.14436765e+18 4.38537560e+18 8.96838710e+18\n",
      " 1.83409528e+19 3.75084781e+19 7.67073523e+19 1.56871678e+20\n",
      " 3.20813097e+20 6.56084292e+20 1.34173636e+21 2.74394080e+21\n",
      " 5.61154289e+21 1.14759814e+22 2.34691513e+22 4.79959878e+22\n",
      " 9.81550126e+22 2.00733581e+23 4.10513630e+23 8.39527894e+23\n",
      " 1.71689082e+24 3.51115683e+24 7.18055110e+24 1.46847084e+25\n",
      " 3.00312131e+25 6.14158441e+25 1.25599518e+26 2.56859435e+26\n",
      " 5.25294764e+26 1.07426301e+27 2.19693987e+27 4.49288931e+27\n",
      " 9.18825984e+27 1.87906073e+28 3.84280517e+28 7.85879420e+28\n",
      " 1.60717610e+29 3.28678286e+29 6.72169129e+29 1.37463093e+30\n",
      " 2.81121241e+30 5.74911784e+30 1.17573314e+31 2.40445309e+31]\n"
     ]
    }
   ],
   "source": [
    "#Para primera condición inicial\n",
    "import numpy as np\n",
    "from scipy import integrate\n",
    "\n",
    "# PASO 1. Definir la función f(x,t)\n",
    "def ode_1(variables, t):\n",
    "    # Variables\n",
    "    I = variables[0]\n",
    "    Q = variables[1]\n",
    "    \n",
    "    # Ecuaciones\n",
    "\n",
    "    dI_dt = (9* Q)-(-1* I)\n",
    "    dQ_dt = I\n",
    "    return [dI_dt, dQ_dt]\n",
    "\n",
    "# PASO 2. Condiciones iniciales\n",
    "condiciones_iniciales_1 = [0,10]\n",
    "\n",
    "# PASO 3. Puntos de tiempo\n",
    "start = 0\n",
    "stop = 20\n",
    "num = 100\n",
    "\n",
    "tiempo = np.linspace(start, stop, num)\n",
    "\n",
    "# PASO 4. Resolver la EDO\n",
    "sol_2 = integrate.odeint(func=ode_1, \n",
    "                         y0=condiciones_iniciales_2, \n",
    "                         t=tiempo)\n",
    "\n",
    "# Obtener resultados\n",
    "I = sol_2[:, 0]\n",
    "Q = sol_2[:, 1]\n",
    "\n",
    "# Mostrar los resultados\n",
    "print(\"Resultados de I:\")\n",
    "print(I)\n",
    "\n",
    "print(\"Resultados de Q:\")\n",
    "print(Q)\n"
   ]
  },
  {
   "cell_type": "code",
   "execution_count": 166,
   "metadata": {},
   "outputs": [
    {
     "name": "stdout",
     "output_type": "stream",
     "text": [
      "Resultados de I:\n",
      "[2.00000000e+00 2.88134040e+00 5.16913037e+00 1.01382961e+01\n",
      " 2.04744124e+01 4.17164978e+01 8.52202457e+01 1.74225586e+02\n",
      " 3.56269772e+02 7.28575682e+02 1.48997421e+03 3.04709003e+03\n",
      " 6.23149914e+03 1.27438309e+04 2.60619871e+04 5.32985099e+04\n",
      " 1.08999026e+05 2.22910314e+05 4.55866537e+05 9.32277629e+05\n",
      " 1.90657025e+06 3.89906399e+06 7.97384725e+06 1.63070522e+07\n",
      " 3.33490150e+07 6.82009714e+07 1.39475559e+08 2.85236868e+08\n",
      " 5.83328519e+08 1.19294593e+09 2.43965440e+09 4.98925680e+09\n",
      " 1.02033647e+10 2.08665647e+10 4.26735238e+10 8.72702171e+10\n",
      " 1.78473445e+11 3.64990160e+11 7.46429345e+11 1.52649805e+12\n",
      " 3.12179086e+12 6.38427159e+12 1.30562634e+13 2.67009340e+13\n",
      " 5.46052001e+13 1.11671295e+14 2.28375285e+14 4.67042768e+14\n",
      " 9.55133772e+14 1.95331260e+15 3.99465521e+15 8.16933771e+15\n",
      " 1.67068433e+16 3.41666146e+16 6.98730174e+16 1.42895005e+17\n",
      " 2.92229865e+17 5.97629666e+17 1.22219273e+18 2.49946608e+18\n",
      " 5.11157569e+18 1.04535150e+19 2.13781389e+19 4.37197273e+19\n",
      " 8.94097735e+19 1.82848981e+20 3.73938424e+20 7.64729146e+20\n",
      " 1.56392237e+21 3.19832610e+21 6.54079130e+21 1.33763567e+22\n",
      " 2.73555462e+22 5.59439260e+22 1.14409079e+23 2.33974237e+23\n",
      " 4.78493001e+23 9.78550265e+23 2.00120090e+24 4.09258999e+24\n",
      " 8.36962091e+24 1.71164359e+25 3.50042589e+25 7.15860561e+25\n",
      " 1.46398284e+26 2.99394305e+26 6.12281426e+26 1.25215656e+27\n",
      " 2.56074412e+27 5.23689340e+27 1.07097981e+28 2.19022551e+28\n",
      " 4.47915800e+28 9.16017841e+28 1.87331790e+29 3.83106069e+29\n",
      " 7.83477594e+29 1.60226421e+30 3.27673772e+30 6.70114831e+30]\n",
      "Resultados de Q:\n",
      "[0.00000000e+00 4.75644370e-01 1.25737458e+00 2.74176436e+00\n",
      " 5.70903751e+00 1.17363739e+01 2.40381827e+01 4.91815453e+01\n",
      " 1.00592633e+02 2.05726505e+02 4.20729178e+02 8.60422177e+02\n",
      " 1.75962271e+03 3.59854742e+03 7.35927133e+03 1.50502036e+04\n",
      " 3.07786756e+04 6.29444551e+04 1.28725631e+05 2.63252545e+05\n",
      " 5.38369102e+05 1.10100091e+06 2.25162067e+06 4.60471522e+06\n",
      " 9.41695132e+06 1.92582968e+07 3.93845080e+07 8.05439593e+07\n",
      " 1.64717797e+08 3.36858937e+08 6.88899109e+08 1.40884486e+09\n",
      " 2.88118220e+09 5.89221074e+09 1.20499660e+10 2.46429883e+10\n",
      " 5.03965632e+10 1.03064350e+11 2.10773506e+11 4.31045951e+11\n",
      " 8.81517866e+11 1.80276314e+12 3.68677147e+12 7.53969482e+12\n",
      " 1.54191814e+13 3.15332596e+13 6.44876300e+13 1.31881527e+14\n",
      " 2.69706564e+14 5.51568004e+14 1.12799355e+15 2.30682242e+15\n",
      " 4.71760651e+15 9.64782158e+15 1.97304419e+16 4.03500765e+16\n",
      " 8.25186116e+16 1.68756093e+17 3.45117523e+17 7.05788473e+17\n",
      " 1.44338474e+18 2.95181857e+18 6.03666686e+18 1.23453884e+19\n",
      " 2.52471470e+19 5.16321082e+19 1.05591123e+20 2.15940925e+20\n",
      " 4.41613669e+20 9.03129559e+20 1.84696050e+21 3.77715804e+21\n",
      " 7.72454141e+21 1.57972051e+22 3.23063434e+22 6.60686381e+22\n",
      " 1.35114794e+23 2.76318812e+23 5.65090496e+23 1.15564795e+24\n",
      " 2.36337753e+24 4.83326549e+24 9.88435197e+24 2.02141624e+25\n",
      " 4.13393174e+25 8.45416754e+25 1.72893394e+26 3.53578582e+26\n",
      " 7.23091904e+26 1.47877142e+27 3.02418669e+27 6.18466454e+27\n",
      " 1.26480536e+28 2.58661176e+28 5.28979445e+28 1.08179843e+29\n",
      " 2.21235031e+29 4.52440470e+29 9.25271094e+29 1.89224142e+30]\n"
     ]
    }
   ],
   "source": [
    "#Segunda condición inicial\n",
    "import numpy as np\n",
    "from scipy import integrate\n",
    "\n",
    "# PASO 1. Definir la función f(x,t)\n",
    "def ode_2(variables, t):\n",
    "    # Variables\n",
    "    I = variables[0]\n",
    "    Q = variables[1]\n",
    "    \n",
    "    # Ecuaciones\n",
    "\n",
    "    dI_dt = (9* Q)-(-1* I)\n",
    "    dQ_dt = I\n",
    "    return [dI_dt, dQ_dt]\n",
    "\n",
    "# PASO 2. Condiciones iniciales\n",
    "condiciones_iniciales_2 = [2,0]\n",
    "\n",
    "# PASO 3. Puntos de tiempo\n",
    "start = 0\n",
    "stop = 20\n",
    "num = 100\n",
    "\n",
    "# PASO 4. Puntos de tiempo\n",
    "start = 0\n",
    "stop = 20\n",
    "num = 100\n",
    "\n",
    "tiempo = np.linspace(start, stop, num)\n",
    "\n",
    "# PASO 5. Resolver la EDO\n",
    "sol_1 = integrate.odeint(func=ode_2, \n",
    "                         y0=condiciones_iniciales_2, \n",
    "                         t=tiempo)\n",
    "\n",
    "# Obtener resultados\n",
    "I = sol_1[:, 0]\n",
    "Q = sol_1[:, 1]\n",
    "\n",
    "# Mostrar los resultados\n",
    "print(\"Resultados de I:\")\n",
    "print(I)\n",
    "\n",
    "print(\"Resultados de Q:\")\n",
    "print(Q)\n"
   ]
  },
  {
   "cell_type": "markdown",
   "metadata": {},
   "source": [
    "ÍTEM 4\n",
    "\n",
    "1. Genere una funcín que tenga las condiciones iniciales, los coeficientes y la función del ítem 3 y resuelva la ecuación diferencial. Además de lo anterior la función debe graficar I vs T y Q vs t. A este le debe entrar por parámetro R,L,C."
   ]
  },
  {
   "cell_type": "markdown",
   "metadata": {},
   "source": [
    "![Alt text](image-25.png)"
   ]
  },
  {
   "cell_type": "code",
   "execution_count": 177,
   "metadata": {},
   "outputs": [
    {
     "data": {
      "application/vnd.jupyter.widget-view+json": {
       "model_id": "74cf6cff6bf946dabd05556a14550377",
       "version_major": 2,
       "version_minor": 0
      },
      "text/plain": [
       "interactive(children=(FloatSlider(value=1.0, description='R', max=5.0), FloatSlider(value=1.0, description='L'…"
      ]
     },
     "metadata": {},
     "output_type": "display_data"
    },
    {
     "data": {
      "text/plain": [
       "<function __main__.solve_ode(R=1, L=1, C=1)>"
      ]
     },
     "execution_count": 177,
     "metadata": {},
     "output_type": "execute_result"
    }
   ],
   "source": [
    "import numpy as np\n",
    "from scipy import integrate\n",
    "import matplotlib.pyplot as plt\n",
    "from ipywidgets import interact\n",
    "\n",
    "# Definir la función ode_1\n",
    "def ode_1(variables, t, R, L, C):\n",
    "    # Variables\n",
    "    I = variables[0]\n",
    "    Q = variables[1]\n",
    "    \n",
    "    # Ecuaciones\n",
    "    dI_dt = (-Q/L*C) - (R* I/L)\n",
    "    dQ_dt = I\n",
    "    return [dI_dt, dQ_dt]\n",
    "\n",
    "# Función para resolver la EDO con parámetros ajustables\n",
    "def solve_ode(R=1, L=1, C=1):\n",
    "    # Condiciones iniciales\n",
    "    condiciones_iniciales = [0, 10]\n",
    "\n",
    "    # Puntos de tiempo\n",
    "    start = 0\n",
    "    stop = 20\n",
    "    num = 100\n",
    "\n",
    "    tiempo = np.linspace(start, stop, num)\n",
    "\n",
    "    # Resolver la EDO con los parámetros R, L y C\n",
    "    sol = integrate.odeint(func=ode_1, \n",
    "                            y0=condiciones_iniciales, \n",
    "                            t=tiempo, \n",
    "                            args=(R, L, C))\n",
    "\n",
    "    # Obtener resultados\n",
    "    I = sol[:, 0]\n",
    "    Q = sol[:, 1]\n",
    "\n",
    "  # Mostrar los resultados en dos gráficas separadas\n",
    "    plt.figure(figsize=(12, 5), dpi=80)\n",
    "\n",
    "    # Gráfica 1: Q vs T\n",
    "    plt.subplot(1, 2, 1)\n",
    "    plt.plot(tiempo, Q, linestyle='-', linewidth=2, color='darkolivegreen')\n",
    "    plt.xlabel('Tiempo ($T$)')\n",
    "    plt.ylabel('Carga ($Q$)')\n",
    "    plt.title('Carga vs Tiempo')\n",
    "\n",
    "    # Gráfica 2: I vs T\n",
    "    plt.subplot(1, 2, 2)\n",
    "    plt.plot(tiempo, I, linestyle='-', linewidth=2, color='mediumblue')\n",
    "    plt.xlabel('Tiempo ($T$)')\n",
    "    plt.ylabel('Corriente ($I$)')\n",
    "    plt.title('Corriente vs Tiempo')\n",
    "\n",
    "    plt.tight_layout()  # Ajustar el espacio entre las gráficas\n",
    "    plt.show()\n",
    "\n",
    "# Usar interact para ajustar los parámetros R, L y C de manera interactiva\n",
    "interact(solve_ode, R=(0, 5,0.1), L=(0.1, 2), C=(0.1, 1))\n",
    "\n"
   ]
  },
  {
   "cell_type": "code",
   "execution_count": 179,
   "metadata": {},
   "outputs": [
    {
     "data": {
      "application/vnd.jupyter.widget-view+json": {
       "model_id": "8158b685991c40b89128e21ac8b36cc3",
       "version_major": 2,
       "version_minor": 0
      },
      "text/plain": [
       "interactive(children=(FloatSlider(value=1.0, description='R', max=5.0), FloatSlider(value=1.0, description='L'…"
      ]
     },
     "metadata": {},
     "output_type": "display_data"
    },
    {
     "data": {
      "text/plain": [
       "<function __main__.solve_ode(R=1, L=1, C=1)>"
      ]
     },
     "execution_count": 179,
     "metadata": {},
     "output_type": "execute_result"
    }
   ],
   "source": [
    "import numpy as np\n",
    "from scipy import integrate\n",
    "import matplotlib.pyplot as plt\n",
    "from ipywidgets import interact\n",
    "\n",
    "# Definir la función ode_1\n",
    "def ode_2(variables, t, R, L, C):\n",
    "    # Variables\n",
    "    I = variables[0]\n",
    "    Q = variables[1]\n",
    "    \n",
    "    # Ecuaciones\n",
    "    dI_dt = (-Q/L*C) - (R* I/L)\n",
    "    dQ_dt = I\n",
    "    return [dI_dt, dQ_dt]\n",
    "\n",
    "# Función para resolver la EDO con parámetros ajustables\n",
    "def solve_ode(R=1, L=1, C=1):\n",
    "    # Condiciones iniciales\n",
    "    condiciones_iniciales = [0, 10]\n",
    "\n",
    "    # Puntos de tiempo\n",
    "    start = 0\n",
    "    stop = 20\n",
    "    num = 100\n",
    "\n",
    "    tiempo = np.linspace(start, stop, num)\n",
    "\n",
    "    # Resolver la EDO con los parámetros R, L y C\n",
    "    sol_2 = integrate.odeint(func=ode_2, \n",
    "                            y0=condiciones_iniciales_2, \n",
    "                            t=tiempo, \n",
    "                            args=(R, L, C))\n",
    "\n",
    "    # Obtener resultados\n",
    "    I = sol_2[:, 0]\n",
    "    Q = sol_2[:, 1]\n",
    "\n",
    "  # Mostrar los resultados en dos gráficas separadas\n",
    "    plt.figure(figsize=(12, 5), dpi=80)\n",
    "\n",
    "    # Gráfica 1: Q vs T\n",
    "    plt.subplot(1, 2, 1)\n",
    "    plt.plot(tiempo, Q, linestyle='-', linewidth=2, color='darkolivegreen')\n",
    "    plt.xlabel('Tiempo ($T$)')\n",
    "    plt.ylabel('Carga ($Q$)')\n",
    "    plt.title('Carga vs Tiempo')\n",
    "\n",
    "    # Gráfica 2: I vs T\n",
    "    plt.subplot(1, 2, 2)\n",
    "    plt.plot(tiempo, I, linestyle='-', linewidth=2, color='mediumblue')\n",
    "    plt.xlabel('Tiempo ($T$)')\n",
    "    plt.ylabel('Corriente ($I$)')\n",
    "    plt.title('Corriente vs Tiempo')\n",
    "\n",
    "    plt.tight_layout()  # Ajustar el espacio entre las gráficas\n",
    "    plt.show()\n",
    "\n",
    "# Usar interact para ajustar los parámetros R, L y C de manera interactiva\n",
    "interact(solve_ode, R=(0, 5,0.1), L=(0.1, 2), C=(0.1, 1))"
   ]
  },
  {
   "cell_type": "markdown",
   "metadata": {},
   "source": [
    "4. ¿Qué comportamientos puede observar cambiando las condiciones iniciales?\n",
    "\n",
    "Las condiciones iniciales influyen en el punto de inicio de las variables de estudio; por ejemplo para las condiciones iniciales (0,10) la carga tiene un valor inicial de 10 C, mientras que en el segundo caso el valor inicial es cero. Por otra parte, para el primer caso el valor inicial de corriente es 0 A, mientras que para el segundo caso es 2 A. No obstante, en general se observa un comporamiento similar después del punto de partida.\n",
    "\n",
    "5. ¿Qué comportamiento observa cambiando la resistencia y dejando la inductancia y\n",
    "capacitancia con un solo valor? Realice esto con las demás variables\n",
    "\n",
    "a. Cambiando R y demás constantes\n",
    "\n",
    "Al cambiar la resistencia se observan cambios significativos en ambas gráficas. Manteniendo las demás variables en el valor mínimo (0.1), y variando R se observa cómo empieza con un comportamiento sinosoidal y termina en dos casos distintos: para carga en el segundo 0 alcanza un pico y disminuye de manera lineal; para la corriente disminuye drásticamente en el primer instante y se mantiene en cero. \n",
    "\n",
    "b. Cambiando C y demás constantes\n",
    "\n",
    "A medida de que aumenta la capacitancia, manteniendo las demás variables en el valor mínimo (0.1), se puede observar como la distancia entre cada cresta de las curvas disminuye. Adicionalmente, a medida que aumenta la capacitancia el tamaño de las ondas disminuye, acercándose a un valor de cero.\n",
    "\n",
    "c. Cambiano L y demás constantes\n",
    "\n",
    "A medida que se aumenta el valor de la inductancia, se puede observar como la longitud de onda aumenta, manteniendo las demás variables en el valor mínimo (0.1). Al llegar al valor máximo se observa un comportamiendo sinodoidal. \n",
    "\n"
   ]
  }
 ],
 "metadata": {
  "kernelspec": {
   "display_name": "base",
   "language": "python",
   "name": "python3"
  },
  "language_info": {
   "codemirror_mode": {
    "name": "ipython",
    "version": 3
   },
   "file_extension": ".py",
   "mimetype": "text/x-python",
   "name": "python",
   "nbconvert_exporter": "python",
   "pygments_lexer": "ipython3",
   "version": "3.9.7"
  },
  "orig_nbformat": 4
 },
 "nbformat": 4,
 "nbformat_minor": 2
}
