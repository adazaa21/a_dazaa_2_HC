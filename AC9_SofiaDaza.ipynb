{
 "cells": [
  {
   "cell_type": "markdown",
   "metadata": {},
   "source": [
    "# IMEC2001 Herramientas Computacionales \n",
    "## Actividad Clase 9: Sistemas de Ecuaciones\n",
    "### Fecha Límite Entrega (Bloque Neón): <font color=\"#FF5733\">23.59h de Septiembre 6, 2023</font>\n",
    "\n",
    "Universidad de los Andes — Septiembre 4, 2023.\n",
    "\n",
    "___\n",
    "### Tener en Cuenta\n",
    "La entrega de la **Actividad Clase 9** se puede realizar de dos maneras:\n",
    "1. Enviar vía Bloque Neón el archivo en Jupyter Notebook (extensión '.ipynb').\n",
    "2. Enviar vía Bloque Neón el archivo PDF del Jupyter Notebook.\n",
    "\n",
    "**Nota:** <font color=\"#FF5733\">El nombre del archivo debe ser: `AC9_NombreApellido.ipynb`.</font>\n",
    "\n",
    "---\n",
    "\n",
    "## TABLA DE CONTENIDO\n",
    "\n",
    "### Sección 1: Ejercicios [→](#section1)\n",
    "1. Ejercicio 1: Ecuaciones Lineales [→](#exercise1)\n",
    "2. Ejercicio 2: Ecuaciones No Lineales [→](#exercise2)\n",
    "___"
   ]
  },
  {
   "cell_type": "markdown",
   "metadata": {},
   "source": [
    "<a id=\"section1\"></a>\n",
    "# Sección 1: Ejercicios"
   ]
  },
  {
   "cell_type": "markdown",
   "metadata": {},
   "source": [
    "<a id=\"exercise1\"></a>\n",
    "## Ejercicio 1: Ecuaciones Lineales\n",
    "\n",
    "Se tiene el siguiente sistema de ecuaciones lineales:\n",
    "\n",
    "$$\n",
    "\\begin{cases}\n",
    "  3x_1 + 2x_2 + x_3 = 1 \\\\ \n",
    "  \\\\\n",
    "  2x_1 + 2x_2 + 4x_3 = -2 \\\\\n",
    "  \\\\\n",
    "  -x_1 + \\frac{1}{2}x_2 - x_3 = 0\n",
    "\\end{cases} \n",
    "$$\n",
    "\n",
    "<div class=\"alert alert-block alert-warning\">\n",
    "\n",
    "1. Utilizando la librería `numpy.linalg.inv` y `numpy.dots`, resuelva el sistema de ecuaciones.\n",
    "2. Utilizando la librería `numpy.linalg.solve`, resuelva el sistema de ecuaciones.\n",
    "3. Utilizando la librería `sympy.rref()`, resuelva el sistema de ecuaciones.\n",
    "4. Utilizando la librería `scipy.optimize.fsolve`, resuelva el sistema de ecuaciones.\n",
    "5. Utilizando la librería `sympy.solve`, resuelva el sistema de ecuaciones.\n",
    "    \n",
    "</div>"
   ]
  },
  {
   "cell_type": "code",
   "execution_count": 11,
   "metadata": {},
   "outputs": [],
   "source": [
    "#Cargar librerías\n",
    "\n",
    "# Datos y Gráficas\n",
    "%matplotlib inline\n",
    "import matplotlib.pyplot as plt\n",
    "import pandas as pd\n",
    "\n",
    "# Sistema de Ecuaciones\n",
    "import numpy as np\n",
    "from scipy import optimize\n",
    "import sympy"
   ]
  },
  {
   "cell_type": "code",
   "execution_count": 9,
   "metadata": {},
   "outputs": [
    {
     "data": {
      "text/plain": [
       "array([-0.33333333,  1.55555556, -1.11111111])"
      ]
     },
     "execution_count": 9,
     "metadata": {},
     "output_type": "execute_result"
    }
   ],
   "source": [
    "# Ítem 1\n",
    "a = np.array([[3,2,1], [2,2,4], [-1,1/2,1]])\n",
    "\n",
    "b = np.array([1,-2,0])\n",
    "\n",
    "inva = np.linalg.inv(a)\n",
    "\n",
    "x = np.dot(inva, b)\n",
    "x"
   ]
  },
  {
   "cell_type": "code",
   "execution_count": 10,
   "metadata": {},
   "outputs": [
    {
     "data": {
      "text/plain": [
       "array([-0.33333333,  1.55555556, -1.11111111])"
      ]
     },
     "execution_count": 10,
     "metadata": {},
     "output_type": "execute_result"
    }
   ],
   "source": [
    "# Ítem 2\n",
    "a = np.array([[3,2,1], [2,2,4], [-1,1/2,1]])\n",
    "\n",
    "b = np.array([1,-2,0])\n",
    "\n",
    "x = np.linalg.solve(a,b)\n",
    "x"
   ]
  },
  {
   "cell_type": "code",
   "execution_count": 13,
   "metadata": {},
   "outputs": [
    {
     "data": {
      "text/latex": [
       "$\\displaystyle \\left[\\begin{matrix}1 & 0 & 0 & -0.333333333333333\\\\0 & 1 & 0 & 1.55555555555556\\\\0 & 0 & 1 & -1.11111111111111\\end{matrix}\\right]$"
      ],
      "text/plain": [
       "Matrix([\n",
       "[1, 0, 0, -0.333333333333333],\n",
       "[0, 1, 0,   1.55555555555556],\n",
       "[0, 0, 1,  -1.11111111111111]])"
      ]
     },
     "execution_count": 13,
     "metadata": {},
     "output_type": "execute_result"
    }
   ],
   "source": [
    "# Ítem 3\n",
    "a_aumentada = sympy.Matrix([[3,2,1,1], [2,2,4,-2], [-1,1/2,1,0]])\n",
    "\n",
    "x = a_aumentada.rref()[0]\n",
    "x"
   ]
  },
  {
   "cell_type": "code",
   "execution_count": 23,
   "metadata": {},
   "outputs": [
    {
     "data": {
      "text/plain": [
       "array([-0.69230769,  0.15384615,  0.76923077])"
      ]
     },
     "execution_count": 23,
     "metadata": {},
     "output_type": "execute_result"
    }
   ],
   "source": [
    "# Ítem 4\n",
    "# PASO 1. Definir la función\n",
    "def f(a):\n",
    "    ## Definimos las incógnitas\n",
    "    x1 = a[0]\n",
    "    x2 = a[1]\n",
    "    x3 = a[2]\n",
    "    \n",
    "    ## Creamos una lista vacía para alojar las funciones\n",
    "    F = np.zeros(3)\n",
    "    \n",
    "    ## Alojamos las funciones en F (noten la parte derecha igual a cero)\n",
    "    F[0] = 3*x1 + 2*x2 + x3 + 1\n",
    "    F[1] = 2*x1 + 2*x2 + 4*x3 - 2\n",
    "    F[2] = -1*x1 + (1/2)*x2 - x3 + 0\n",
    "    \n",
    "    return F\n",
    "\n",
    "estimacion  = [0.33 , 1.5 , -1.1]\n",
    "x = optimize.fsolve(func = f, x0 = estimacion)\n",
    "x\n"
   ]
  },
  {
   "cell_type": "code",
   "execution_count": 25,
   "metadata": {},
   "outputs": [
    {
     "data": {
      "text/plain": [
       "{x_1: 0.692307692307692, x_2: -0.153846153846154, x_3: -0.769230769230769}"
      ]
     },
     "execution_count": 25,
     "metadata": {},
     "output_type": "execute_result"
    }
   ],
   "source": [
    "# Ítem 5\n",
    "x1 = sympy.Symbol('x_1')\n",
    "x2 = sympy.Symbol('x_2')\n",
    "x3 = sympy.Symbol('x_3')\n",
    "\n",
    "ec1 = sympy.Eq(3*x1 + 2*x2 + x3, 1) # La derecha de la igualdad va después de la coma\n",
    "ec2 = sympy.Eq(2*x1 + 2*x2 + 4*x3,- 2)\n",
    "ec3 = sympy.Eq(-1*x1 + (1/2)*x2 - x3, 0)\n",
    "\n",
    "sol = sympy.solve([ec1, ec2, ec3], # Lista de ecuaciones\n",
    "                  [x1, x2,x3]) # Lista de símbolos\n",
    "sol"
   ]
  },
  {
   "cell_type": "markdown",
   "metadata": {},
   "source": [
    "<a id='exercise2'></a>\n",
    "## Ejercicio 2: Ecuaciones No Lineales\n",
    "\n",
    "Se tiene el siguiente sistema de ecuaciones no lineales:\n",
    "\n",
    "$$\n",
    "\\begin{cases}\n",
    "  x^2 + y^2 = 1 \\\\ \n",
    "  \\\\\n",
    "  xy + yz = -1.1 \\\\\n",
    "  \\\\\n",
    "  y^2 + z^2 = 2\n",
    "\\end{cases} \n",
    "$$\n",
    "\n",
    "<div class=\"alert alert-block alert-warning\">\n",
    "\n",
    "1. Utilizando la librería `scipy.optimize.fsolve`, resuelva el sistema de ecuaciones.\n",
    "1. Utilizando la librería `scipy.optimize.roots`, resuelva el sistema de ecuaciones.\n",
    "3. Utilizando la librería `sympy.solve`, resuelva el sistema de ecuaciones.\n",
    "    \n",
    "</div>"
   ]
  },
  {
   "cell_type": "code",
   "execution_count": 29,
   "metadata": {},
   "outputs": [
    {
     "name": "stderr",
     "output_type": "stream",
     "text": [
      "c:\\Users\\dazam\\Anaconda\\lib\\site-packages\\scipy\\optimize\\minpack.py:175: RuntimeWarning: The iteration is not making good progress, as measured by the \n",
      "  improvement from the last five Jacobian evaluations.\n",
      "  warnings.warn(msg, RuntimeWarning)\n"
     ]
    },
    {
     "data": {
      "text/plain": [
       "array([-0.72463231,  0.72450741,  1.21453453])"
      ]
     },
     "execution_count": 29,
     "metadata": {},
     "output_type": "execute_result"
    }
   ],
   "source": [
    "# Ítem 1\n",
    "from scipy import optimize\n",
    "\n",
    "# PASO 1. Definir la función\n",
    "def f(a):\n",
    "    ## Definimos las incógnitas\n",
    "    x = a[0]\n",
    "    y = a[1]\n",
    "    z = a[2]\n",
    "    ## Creamos una lista vacía para alojar las funciones\n",
    "    F = np.zeros(3)\n",
    "    \n",
    "    ## Alojamos las funciones en F (noten la parte derecha igual a cero)\n",
    "    F[0] = x**2 + y**2 - 1\n",
    "    F[1] = x * y + y * x + 1.1\n",
    "    F[2] = y**2 + z**2 - 2\n",
    "    return F\n",
    "\n",
    "estimacion = [1,1,1]\n",
    "\n",
    "sol = optimize.fsolve(func=f,\n",
    "                      x0=estimacion)\n",
    "sol "
   ]
  },
  {
   "cell_type": "code",
   "execution_count": 36,
   "metadata": {},
   "outputs": [
    {
     "data": {
      "text/plain": [
       "    fjac: array([[-0.96218169,  0.27240628, -0.00110501],\n",
       "       [-0.23975595, -0.84491595,  0.478157  ],\n",
       "       [-0.12931933, -0.46033884, -0.87827368]])\n",
       "     fun: array([ 8.99236241e-12, -2.38808973e-12, -4.30322444e-12])\n",
       " message: 'The solution converged.'\n",
       "    nfev: 10\n",
       "     qtf: array([ 2.28687352e-10,  3.69080930e-10, -6.91311757e-11])\n",
       "       r: array([ 1.78222233, -1.58776103,  0.17222906,  2.06490602, -1.63602758,\n",
       "        2.08018492])\n",
       "  status: 1\n",
       " success: True\n",
       "       x: array([-0.86413935,  0.5032526 , -1.32164172])"
      ]
     },
     "execution_count": 36,
     "metadata": {},
     "output_type": "execute_result"
    }
   ],
   "source": [
    "# Ítem 2\n",
    "\n",
    "# PASO 1. Definir la función\n",
    "def f(a):\n",
    "    ## Definimos las incógnitas\n",
    "    x = a[0]\n",
    "    y = a[1]\n",
    "    z = a[2]\n",
    "    \n",
    "    ## Creamos una lista vacía para alojar las funciones\n",
    "    F = np.array( [ x**2 + y**2 - 1,\n",
    "                     x * y + y * z + 1.1, y**2 + z**2 - 2 ]) \n",
    "    return F\n",
    "\n",
    "estimacion = [-0.8,0.5, -1.3]\n",
    "x = optimize.root(fun=f,\n",
    "                  x0=estimacion)\n",
    "\n",
    "x"
   ]
  },
  {
   "cell_type": "code",
   "execution_count": 35,
   "metadata": {},
   "outputs": [
    {
     "name": "stderr",
     "output_type": "stream",
     "text": [
      "c:\\Users\\dazam\\Anaconda\\lib\\site-packages\\sympy\\core\\relational.py:495: SymPyDeprecationWarning: \n",
      "\n",
      "Eq(expr) with rhs default to 0 has been deprecated since SymPy 1.5.\n",
      "Use Eq(expr, 0) instead. See\n",
      "https://github.com/sympy/sympy/issues/16587 for more info.\n",
      "\n",
      "  SymPyDeprecationWarning(\n"
     ]
    },
    {
     "data": {
      "text/plain": [
       "[(-0.864139354188464, 0.503252597154495, -1.32164171523800),\n",
       " (-0.100560885095735, 0.994930906339110, -1.00504352722220),\n",
       " (0.100560885095735, -0.994930906339110, 1.00504352722220),\n",
       " (0.864139354188464, -0.503252597154495, 1.32164171523800)]"
      ]
     },
     "execution_count": 35,
     "metadata": {},
     "output_type": "execute_result"
    }
   ],
   "source": [
    "# Ítem 3\n",
    "x = sympy.Symbol('x')\n",
    "y = sympy.Symbol('y')\n",
    "z = sympy.Symbol('z')\n",
    "\n",
    "ec1 = sympy.Eq( x**2 + y**2 - 1)\n",
    "ec2 = sympy.Eq(x * y + y * z + 1.1)\n",
    "ec3 = sympy.Eq( y**2 + z**2 - 2)\n",
    "\n",
    "sol = sympy.solve([ec1, ec2, ec3], # Lista de ecuaciones\n",
    "                  [x,y,z]) # Lista de símbolos\n",
    "sol\n"
   ]
  }
 ],
 "metadata": {
  "kernelspec": {
   "display_name": "Python 3 (ipykernel)",
   "language": "python",
   "name": "python3"
  },
  "language_info": {
   "codemirror_mode": {
    "name": "ipython",
    "version": 3
   },
   "file_extension": ".py",
   "mimetype": "text/x-python",
   "name": "python",
   "nbconvert_exporter": "python",
   "pygments_lexer": "ipython3",
   "version": "3.9.7"
  },
  "toc": {
   "base_numbering": 1,
   "nav_menu": {},
   "number_sections": false,
   "sideBar": true,
   "skip_h1_title": true,
   "title_cell": "Table of Contents",
   "title_sidebar": "Contents",
   "toc_cell": false,
   "toc_position": {},
   "toc_section_display": true,
   "toc_window_display": false
  }
 },
 "nbformat": 4,
 "nbformat_minor": 2
}
