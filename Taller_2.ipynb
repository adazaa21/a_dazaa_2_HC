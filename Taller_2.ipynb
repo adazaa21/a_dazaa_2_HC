{
 "cells": [
  {
   "cell_type": "markdown",
   "metadata": {},
   "source": [
    "- Estudiante 1:\n",
    "- Estudiante 2:\n"
   ]
  },
  {
   "cell_type": "markdown",
   "metadata": {},
   "source": [
    "\n",
    "<img src=\"./img/Logo_Uniandes.svg\"  />\n",
    "\n",
    "# Departamento de Ingeniería Mecánica\n",
    "## IMEC 2001 - Herramientas Computacionales\n",
    "### Taller 2 - Sistemas de ecuaciones\n",
    "----\n",
    "### **<span style=\"color:#A1CCD1;\">Condiciones de la entrega </span>**\n",
    "----\n",
    "**1. Fechas de entrega:**\n",
    "- Nota sobre 5.00 ->  <span style=\"color:red;\">17 de Septiembre a las 23:59, 2023</span>\n",
    "- Nota sobre 4.00 ->  <span style=\"color:red;\">18 de Septiembre a las 23:59, 2023</span>\n",
    "\n",
    "**2. Colocar el nombre de los integrantes en la casilla correspondiente<br>**\n",
    "**3. La entrega del taller es por Bloque Neon y se envía el archivo en formato de Jupyter Notebook (extensión `.ipynb`)<br>**\n",
    "**4. El nombre del archivo debe ser:** \n",
    "- Si trabajó en parejas:`T#_ApellidosIntegrante1_ApellidosIntegrante2` (Ej: `T#_Salamanca_VargasTorres`)\n",
    "- Si trabajó individual: `T#_Apellido` (Ej: `T#_VargasTorres`)\n",
    "\n",
    "**5. Comente el código con el proceso que realizó para llegar a la solución.<br>**\n",
    "**6. <span style=\"color:red;\"> Si se detecta copia con otro de los talleres enviados, automáticamente la nota para los grupos involucrados es 0. </span>**\n",
    "\n",
    "\n",
    "----\n",
    "### **<span style=\"color:#A1CCD1;\">Condiciones para el segundo envío </span>**\n",
    "----\n",
    "<div class='alert alert-block alert-info'>   \n",
    "\n",
    "<i class='fa fa-info-circle' aria-hidden='true'></i>\n",
    "Para poder realizar un segundo envío con correcciones, la nota del **primer envío** debe estar mínimo en **Aprendiz**.\n",
    "</div>\n",
    "\n",
    "----\n",
    "### **Tabla de contenido**\n",
    "----\n",
    "### Sección 1: Sistemas de ecuaciones lineales\n",
    "- Ejercicio 1 - Viga Compuesta 1\n",
    "- Ejercicio 2 - Viga Compuesta 2\n"
   ]
  },
  {
   "cell_type": "markdown",
   "metadata": {},
   "source": [
    "## **Punto 1 - Viga compuesta 1**\n",
    "----\n",
    "\n",
    "Con la figura mostrada determine las componentes de la reacción de los soportes. Adjunte una foto en el cuaderno de jupyter o en BN del sistema de ecuaciones al que llegó.\n",
    "\n",
    "\n",
    "<img src=\"./img/Ejercicio_1.png\"  height='300'/>"
   ]
  },
  {
   "cell_type": "code",
   "execution_count": 2,
   "metadata": {},
   "outputs": [],
   "source": [
    "# Importar librerías \n"
   ]
  },
  {
   "cell_type": "markdown",
   "metadata": {},
   "source": [
    "## **Punto 2 - Ejercicio viga compuesta**\n",
    "----\n",
    "\n",
    "La figura muestra un bastidor que soporta 50 kg. Determine las componentes horizontal y verticual de la rección en A y la fuerza en C. Adjunte una foto en el cuaderno de jupyter o en BN del sistema de ecuaciones al que llegó.\n",
    "\n",
    "\n",
    "<img src=\"./img/Ejercicio_2.png\"  height='300'/>"
   ]
  },
  {
   "cell_type": "code",
   "execution_count": 5,
   "metadata": {},
   "outputs": [],
   "source": []
  }
 ],
 "metadata": {
  "kernelspec": {
   "display_name": "Python 3 (ipykernel)",
   "language": "python",
   "name": "python3"
  },
  "language_info": {
   "codemirror_mode": {
    "name": "ipython",
    "version": 3
   },
   "file_extension": ".py",
   "mimetype": "text/x-python",
   "name": "python",
   "nbconvert_exporter": "python",
   "pygments_lexer": "ipython3",
   "version": "3.11.4"
  }
 },
 "nbformat": 4,
 "nbformat_minor": 2
}
