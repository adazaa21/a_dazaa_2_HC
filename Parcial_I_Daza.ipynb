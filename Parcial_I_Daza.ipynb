{
 "cells": [
  {
   "cell_type": "markdown",
   "metadata": {},
   "source": [
    "Parcial I  \n",
    "\n",
    "\n",
    "Parte asincrónica\n",
    "\n",
    "\n",
    "Andrea Sofía Daza\n",
    "\n",
    "\n",
    "202122293"
   ]
  },
  {
   "cell_type": "markdown",
   "metadata": {},
   "source": [
    " Un robot opera recogiendo y moviendo objetos sobre una superficie. El robot\n",
    "consta de un motor para controlar la rotación del brazo (𝜃) y un motor que permite extender\n",
    "o retraer el brazo telescópico (𝑙).\n"
   ]
  },
  {
   "cell_type": "markdown",
   "metadata": {},
   "source": [
    "1a. A Encuentre las expresiones para describir la posición del efector del robot (P) en función del\n",
    "movimiento del motor 𝜃 y de la longitud l."
   ]
  },
  {
   "cell_type": "code",
   "execution_count": 81,
   "metadata": {},
   "outputs": [
    {
     "data": {
      "text/latex": [
       "$\\displaystyle \\left(l + 0.75\\right) \\sin{\\left(\\theta \\right)} + \\left(l + 0.75\\right) \\cos{\\left(\\theta \\right)}$"
      ],
      "text/plain": [
       "(l + 0.75)*sin(theta) + (l + 0.75)*cos(theta)"
      ]
     },
     "execution_count": 81,
     "metadata": {},
     "output_type": "execute_result"
    }
   ],
   "source": [
    "from sympy.physics.mechanics import ReferenceFrame, dynamicsymbols\n",
    "from sympy import symbols,sin,cos\n",
    "\n",
    "r, l, theta,d = symbols('r,l,theta,d')\n",
    "d = 0.75\n",
    "P = (d+l)*sin(theta)+(d+l)*cos(theta)\n",
    "P"
   ]
  },
  {
   "cell_type": "markdown",
   "metadata": {},
   "source": [
    "1b. Encuentre la velocidad y aceleración total del punto P en el instante en que 𝜃=30deg,\n",
    "𝜃̇ constante =10deg/s, 𝑙=0.5m, 𝑙\n",
    "̇=0.2m/s y 𝑙=̈ -0.3m/s^2."
   ]
  },
  {
   "cell_type": "code",
   "execution_count": 82,
   "metadata": {},
   "outputs": [],
   "source": [
    "#Cargar librerías\n",
    "import numpy as np\n",
    "from sympy import symbols, Function, diff,sqrt"
   ]
  },
  {
   "cell_type": "code",
   "execution_count": 83,
   "metadata": {},
   "outputs": [
    {
     "data": {
      "text/latex": [
       "$\\displaystyle 0.21820961366234$"
      ],
      "text/plain": [
       "0.218209613662340"
      ]
     },
     "execution_count": 83,
     "metadata": {},
     "output_type": "execute_result"
    }
   ],
   "source": [
    "#Cálculo de la velocidad\n",
    "\n",
    "ldotdot = Function('ldotdot')(theta)\n",
    "ldot = Function('ldot')(theta)\n",
    "thetadot = Function('thetadot')(theta)\n",
    "\n",
    "theta = np.deg2rad(30) \n",
    "thetadot = np.deg2rad(10)\n",
    "l = 0.5\n",
    "ldot = 0.2\n",
    "ldotdot = -0.3\n",
    "\n",
    "v_radial = ldot\n",
    "v_theta =  l *thetadot\n",
    "\n",
    "v_total = sqrt(v_radial**2+v_theta**2)\n",
    "v_total #m/s"
   ]
  },
  {
   "cell_type": "code",
   "execution_count": 84,
   "metadata": {},
   "outputs": [
    {
     "data": {
      "text/latex": [
       "$\\displaystyle 0.326501134678058$"
      ],
      "text/plain": [
       "0.326501134678058"
      ]
     },
     "execution_count": 84,
     "metadata": {},
     "output_type": "execute_result"
    }
   ],
   "source": [
    "#Cálculo de la aceleración\n",
    "\n",
    "a_radial = ldotdot - l * thetadot**2\n",
    "a_theta =  l * thetadot**2 +2*ldot*thetadot\n",
    "\n",
    "a_total = sqrt(a_radial**2+a_theta**2)\n",
    "a_total #m/s^2\n"
   ]
  },
  {
   "cell_type": "markdown",
   "metadata": {},
   "source": [
    "2. El automóvil (A) tiene una velocidad de 50km/h y frena produciendo una\n",
    "desaceleración constante de 3m/s2\n",
    ". Determine la velocidad y aceleración del carro relativa a\n",
    "un observador subido en la rueda de radio 9m que se mueve a 3rpm constantes cuando el\n",
    "observador pasa por el punto B mostrado en la imagen (45°)"
   ]
  },
  {
   "cell_type": "markdown",
   "metadata": {},
   "source": [
    "![Alt text](image-21.png)"
   ]
  },
  {
   "cell_type": "code",
   "execution_count": 85,
   "metadata": {},
   "outputs": [
    {
     "data": {
      "text/latex": [
       "$\\displaystyle 11.7563050785729\\mathbf{\\hat{n}_x} + 2.13258381031602\\mathbf{\\hat{n}_y}$"
      ],
      "text/plain": [
       "11.7563050785729*N.x + 2.13258381031602*N.y"
      ]
     },
     "execution_count": 85,
     "metadata": {},
     "output_type": "execute_result"
    }
   ],
   "source": [
    "from sympy import symbols, cos,sin \n",
    "\n",
    "#El marco de referencia fijo se toma la tierra\n",
    "#Definir variables\n",
    "v_A = 50/3.6 #velocidad en A\n",
    "rev = 3 #rev/min de B\n",
    "v_angular = rev*2*np.pi*(1/60) #pasar de rev/min a a rad/s\n",
    "radio = 9.6\n",
    "theta = 45\n",
    "\n",
    "N = ReferenceFrame('N')\n",
    "v_B,a_A = symbols('v_B,a_A')\n",
    "v_A_vector= v_A*N.x\n",
    "v_B = radio*v_angular\n",
    "a_A_vector = a_A * N.x\n",
    "a_A = 3.8 #aceleración en A\n",
    "v_B_vector= v_B*cos(np.deg2rad(theta))*N.x - v_B*cos(np.deg2rad(theta))*N.y\n",
    "\n",
    "#Fórmula para movimiento relativo\n",
    "v_A_B_vector = v_A_vector-v_B_vector\n",
    "v_A_B_vector #m/s\n"
   ]
  },
  {
   "cell_type": "code",
   "execution_count": 86,
   "metadata": {},
   "outputs": [
    {
     "data": {
      "text/latex": [
       "$\\displaystyle 3.13002903683467\\mathbf{\\hat{n}_x} + 0.669970963165332\\mathbf{\\hat{n}_y}$"
      ],
      "text/plain": [
       "3.13002903683467*N.x + 0.669970963165332*N.y"
      ]
     },
     "execution_count": 86,
     "metadata": {},
     "output_type": "execute_result"
    }
   ],
   "source": [
    "#Calcular aceleración\n",
    "a_B = radio*(rev*np.pi/30)**2 #m/s^2\n",
    "a_B_vector = a_B*cos(np.deg2rad(theta))*N.x-a_B*sin(np.deg2rad(theta))*N.y\n",
    "a_B_vector\n",
    "a_A = 3.8 #aceleración en A\n",
    "a_A_vector = a_A * N.x\n",
    "\n",
    "#Fórmula de movimiento relativo\n",
    "a_A_B_vector = a_A_vector-a_B_vector\n",
    "a_A_B_vector #m/s^2\n"
   ]
  },
  {
   "cell_type": "markdown",
   "metadata": {},
   "source": [
    "3. El dispositivo de la figura funciona como un switch de contacto que se activa al\n",
    "alcanzar una aceleración a suficientemente alta. El pasador A tiene una masa de 100mg y\n",
    "en el diagrama se presenta su posición para una aceleración a=0"
   ]
  },
  {
   "cell_type": "markdown",
   "metadata": {},
   "source": [
    "![Alt text](image-19.png)"
   ]
  },
  {
   "cell_type": "code",
   "execution_count": 78,
   "metadata": {},
   "outputs": [
    {
     "name": "stdout",
     "output_type": "stream",
     "text": [
      "[(0.308976377952756, 0.00317500000000000)]\n"
     ]
    }
   ],
   "source": [
    "from sympy import symbols, Eq, solve\n",
    "\n",
    "# Definir variables simbólicas\n",
    "k, y_i = symbols('k,y_i')\n",
    "\n",
    "# Definir constantes \n",
    "m_A = 100 / 10**6  # mg a kg\n",
    "g = 9.81  # m/s^2\n",
    "a = 2 * g  \n",
    "y = 0.25*0.0254\n",
    "\n",
    "# Definir las ecuaciones\n",
    "ecuacion_1 = Eq(k * y_i - m_A * g, 0)\n",
    "ecuacion_2 = Eq(k * (y_i+y) - m_A * g , m_A*a)\n",
    "\n",
    "# Resolver el sistema de ecuaciones\n",
    "sol = solve((ecuacion_1, ecuacion_2), (k, y_i))\n",
    "\n",
    "# Imprimir la solución\n",
    "print(sol)\n"
   ]
  },
  {
   "cell_type": "markdown",
   "metadata": {},
   "source": [
    "Un avión utiliza propulsión a través de las turbinas produciendo una fuerza\n",
    "resultante T. Este avión tiene una resistencia del aire opuesta a su propulsión y\n",
    "representada por el vector R. El avión está acelerando con un ángulo theta respecto a la\n",
    "horizontal. Encuentre la propulsión neta (T-R) requerida para producir esta aceleración.\n",
    "Formule la propulsión neta como una fracción del peso del avión. Es decir, encuentre la\n",
    "expresión como fracción (T-R)/W."
   ]
  },
  {
   "cell_type": "markdown",
   "metadata": {},
   "source": [
    "![Alt text](image-22.png)"
   ]
  },
  {
   "cell_type": "code",
   "execution_count": 88,
   "metadata": {},
   "outputs": [
    {
     "data": {
      "text/latex": [
       "$\\displaystyle \\frac{a}{g} + \\cos{\\left(\\theta \\right)}$"
      ],
      "text/plain": [
       "a/g + cos(theta)"
      ]
     },
     "execution_count": 88,
     "metadata": {},
     "output_type": "execute_result"
    }
   ],
   "source": [
    "from sympy import symbols\n",
    "\n",
    "T,R,theta,g,m,a = symbols('T,R,theta,g,m,a ')\n",
    "P_neta = (a/g+cos(theta))\n",
    "P_neta"
   ]
  },
  {
   "cell_type": "markdown",
   "metadata": {},
   "source": [
    "2a. Diseñe una trayectoria en términos de 𝜃 y 𝑙 que le permita recoger un objeto que está\n",
    "quieto en la coordenada {x=2.5m, y=0} y dejarlo nuevamente en reposo sobre la\n",
    "coordenada {x=0, y=1.0}."
   ]
  },
  {
   "cell_type": "code",
   "execution_count": 77,
   "metadata": {},
   "outputs": [
    {
     "data": {
      "image/png": "[encoded data removed]",
      "text/plain": [
       "<Figure size 720x360 with 1 Axes>"
      ]
     },
     "metadata": {
      "needs_background": "light"
     },
     "output_type": "display_data"
    },
    {
     "data": {
      "image/png": "[encoded data removed]",
      "text/plain": [
       "<Figure size 720x360 with 1 Axes>"
      ]
     },
     "metadata": {
      "needs_background": "light"
     },
     "output_type": "display_data"
    }
   ],
   "source": [
    "import sympy as sp\n",
    "import numpy as np\n",
    "import matplotlib.pyplot as plt\n",
    "\n",
    "# Variables simbólicas\n",
    "t = sp.symbols('t')\n",
    "\n",
    "# theta(t) y l(t) de manera que cambien de manera lineal \n",
    "theta = (sp.pi / 2) * t\n",
    "l = (2.5 - 2.5 * t) - 0.75  \n",
    "\n",
    "# Derivadas de theta(t) y l(t) con respecto a t\n",
    "dot_theta = sp.diff(theta, t)\n",
    "dot_l = sp.diff(l, t)\n",
    "\n",
    "# Componentes de la velocidad utilizando coordenadas polares\n",
    "dot_r = sp.sqrt(dot_l**2 + l**2 * dot_theta**2)\n",
    "v = sp.sqrt(dot_r**2 + (l * dot_theta)**2)\n",
    "\n",
    "# Derivadas segundas\n",
    "ddot_theta = sp.diff(dot_theta, t)\n",
    "ddot_l = sp.diff(dot_l, t)\n",
    "\n",
    "# Componentes de la aceleración en coordenadas polares\n",
    "ddot_r = sp.sqrt(ddot_l**2 + l**2 * ddot_theta**2)\n",
    "a = sp.sqrt(ddot_r**2 + (l * ddot_theta)**2)\n",
    "\n",
    "# Tiempo\n",
    "t_valores = np.linspace(0, 10, 100)\n",
    "\n",
    "# Velocidad y aceleración en función del tiempo\n",
    "v_valores = [v.subs(t, t_val).evalf() for t_val in t_valores]\n",
    "a_valores = [a.subs(t, t_val).evalf() for t_val in t_valores]\n",
    "\n",
    "# Velocidad vs tiempo\n",
    "plt.figure(figsize=(10, 5))\n",
    "plt.plot(t_valores, v_valores, label='Velocidad')\n",
    "plt.xlabel('Tiempo (s)')\n",
    "plt.ylabel('Velocidad (m/s)')\n",
    "plt.title('Velocidad vs Tiempo')\n",
    "plt.grid(True)\n",
    "plt.legend()\n",
    "\n",
    "# Aceleración vs tiempo\n",
    "plt.figure(figsize=(10, 5))\n",
    "plt.plot(t_valores, a_valores, label='Aceleración')\n",
    "plt.xlabel('Tiempo (s)')\n",
    "plt.ylabel('Aceleración (m/s^2)')\n",
    "plt.title('Aceleración vs Tiempo')\n",
    "plt.grid(True)\n",
    "plt.legend()\n",
    "\n",
    "plt.show()\n"
   ]
  },
  {
   "cell_type": "markdown",
   "metadata": {},
   "source": [
    "3. (2 puntos) Usted requiere utilizar el mismo dispositivo de la sección 1 para detectar cuando\n",
    "un vehículo con llantas 225/50R16 exceda la velocidad límite de 50km/h. Para esto decide\n",
    "poner el dispositivo sobre el rin como se presenta en la siguiente figura."
   ]
  },
  {
   "cell_type": "markdown",
   "metadata": {},
   "source": [
    "3.A Explique si la constante k que diseñó en el parcial funcionaría para esta aplicación o\n",
    "modifíquela para que así sea."
   ]
  },
  {
   "cell_type": "code",
   "execution_count": 76,
   "metadata": {},
   "outputs": [
    {
     "name": "stdout",
     "output_type": "stream",
     "text": [
      "[0.167039453421595]\n",
      "Se debe modificar el k\n",
      "El nuevo k será: 7.973266975340536 N/m\n"
     ]
    }
   ],
   "source": [
    "from sympy import symbols, Eq, solve\n",
    "\n",
    "# Definir variables simbólicas\n",
    "y_f = symbols('y_f')\n",
    "\n",
    "# Definir valores numéricos\n",
    "m_A = 100 / 1000000  # mg a kg\n",
    "g = 9.81  # m/s^2\n",
    "v = 50/3.6 # Pasar de km/h a m/s\n",
    "r = 15*0.0254  # Pulgadas a metros\n",
    "a_2 = v**2 / r  # m/s^2\n",
    "\n",
    "# Definir la ecuación original\n",
    "k = 0.308976377952756\n",
    "ec1 = Eq(k * y_f - m_A * g, m_A * a_2)\n",
    "\n",
    "# Resolver el sistema de ecuaciones\n",
    "sol_y = solve(ec1, y_f)\n",
    "print(sol_y)\n",
    "if sol_y[0]>y:\n",
    "    print(\"Se debe modificar el k\")\n",
    "else:\n",
    "    print(\"El resorte funcionará para este caso\")\n",
    "\n",
    "k = m_A*(v**2/r)/y\n",
    "print(\"El nuevo k será:\",k,\"N/m\") #N/m\n"
   ]
  },
  {
   "cell_type": "markdown",
   "metadata": {},
   "source": [
    "3.B Suponga que, en la fabricación del resorte, este puede tener un ±10% de incertidumbre con el\n",
    "95% de confiabilidad. Además, la masa del pasador podría tener hasta un ±5% de incertidumbre.\n",
    "Encuentre la incertidumbre de la velocidad límite de activación."
   ]
  },
  {
   "cell_type": "code",
   "execution_count": 75,
   "metadata": {},
   "outputs": [
    {
     "name": "stdout",
     "output_type": "stream",
     "text": [
      "Incertidumbre total en v_limit: 0.776412492187427\n"
     ]
    }
   ],
   "source": [
    "import numpy as np\n",
    "from sympy import symbols, sqrt, diff\n",
    "\n",
    "# Definir variables simbólicas\n",
    "k, m_A, g, = symbols('k m_A g')\n",
    "r = 15*0.0254  # Pulgadas a metros\n",
    "y = (0.25)*0.0254\n",
    "\n",
    "# Definir la velocidad límite de activación como una expresión simbólica\n",
    "v_limit = sqrt((r * y * k) / m_A)\n",
    "\n",
    "# Calcular las derivadas parciales con respecto a k y m_A\n",
    "partial_vk = diff(v_limit, k)\n",
    "partial_mA = diff(v_limit, m_A)\n",
    "\n",
    "# Definir las incertidumbres\n",
    "delta_mA = 0.05 * m_A  # ±5% de incertidumbre en m_A\n",
    "delta_k = 0.10 * k  # ±10% de incertidumbre en k\n",
    "\n",
    "# Calcular la propagación de errores en v_limit debido a delta_k\n",
    "delta_v_k = abs(partial_vk) * delta_k\n",
    "\n",
    "# Calcular la propagación de errores en v_limit debido a delta_mA\n",
    "delta_v_mA = abs(partial_mA) * delta_mA\n",
    "\n",
    "# Calcular la incertidumbre total en v_limit\n",
    "delta_v_total = sqrt(delta_v_k**2 + delta_v_mA**2)\n",
    "\n",
    "delta_v_total\n",
    "delta_v_total_numeric = delta_v_total.subs({m_A: 100/10**6, k:7.973266975340536 })\n",
    "\n",
    "delta_v_total_numeric\n",
    "# Imprimir la incertidumbre total en v_limit\n",
    "print(\"Incertidumbre total en v_limit:\", delta_v_total_numeric)\n",
    "\n"
   ]
  },
  {
   "cell_type": "markdown",
   "metadata": {},
   "source": [
    "Explique qué habilidades o conceptos ha adquirido en lo que lleva del curso y\n",
    "cuál ejercicio o actividad le ha ayudado a desarrollar esto. Proponga un nuevo ejercicio que\n",
    "le parezca interesante y que pudiera consolidar todos los temas del módulo de cinemática y\n",
    "cinética de partículas."
   ]
  },
  {
   "cell_type": "markdown",
   "metadata": {},
   "source": [
    "A través del curso he podido adquirir más de una habilidad en distintas áreas. En primer lugar, llegamos a un punto en el cual unimos los conocimientos de cursos anteriores de cálculo y programación, por lo cual ha sido un desafío, al integrar conceptos que eran distantes a lo visto en las materias de la carrera, por lo cual he aprendido a aplicar los conceptos, fórmulas y demás elementos de otros cursos, en vez de limitarme a memorizarlas. Además, en lo transcurrido del curso he aprendido a llevar los problemas propuestos en clase a la vida real, lo cual ha ampliado mi capacidad de analizar y abordar de distinta manera un ejercicio. En particular, la actividad que quizás más dificultad me ha costado, precisamente porque no he podido lograr aplicar lo mencionado anteriormente, es el taller 1.3, en el cual se juntaron numerosos conceptos que elevaron el nivel de los ejercicios propuestos. \n",
    "\n",
    "Dicho esto, quisiera proponer el siguiente ejercicio que aborda tanto cinemática y cinética de partículas. Pepito está jugando tejo, y quiere saber con qué velocidad inicial debe arrojar la masa para que caiga en el punto marcado con una x. Se dan los datos señalados en el diagrama por medio de variables simbólicas. Adicionalmente, queremos saber cual será la velocidad relativa de A respecto a B, puesto que el amigo de Pepito está en el balcón viendolo jugar.\n"
   ]
  },
  {
   "cell_type": "markdown",
   "metadata": {},
   "source": [
    "![Alt text](image-18.png)"
   ]
  }
 ],
 "metadata": {
  "kernelspec": {
   "display_name": "base",
   "language": "python",
   "name": "python3"
  },
  "language_info": {
   "codemirror_mode": {
    "name": "ipython",
    "version": 3
   },
   "file_extension": ".py",
   "mimetype": "text/x-python",
   "name": "python",
   "nbconvert_exporter": "python",
   "pygments_lexer": "ipython3",
   "version": "3.9.7"
  },
  "orig_nbformat": 4
 },
 "nbformat": 4,
 "nbformat_minor": 2
}
